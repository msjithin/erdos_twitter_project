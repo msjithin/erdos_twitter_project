{
 "cells": [
  {
   "cell_type": "markdown",
   "metadata": {},
   "source": [
    "## Introduction\n",
    "\n",
    "In this notebook, we attempt to predict whether trading the stock index mentioned in a tweet will yield a return greater than 1%, given the popularity, sentiment scores and other features related to the tweet. We assume that we enter into a long position in the stock index at a fixed time, $t_1$, after the tweet, and we similarly sell off the index at a later fixed time, $t_2$. These $t_1$ and $t_2$ are generally treated as hyperparameters and <b> not as features. </b>\n",
    "\n",
    "We will use 2 Bayesian-based classifiers in this notebook: Naive Bayes Classifier and quadratic discriminant analysis (QDA).\n",
    "\n",
    "\n",
    "\n",
    "\n",
    "## Naive Bayes Classifier\n",
    "\n",
    "Recall that the Naive Bayes Model assumes that the likelihood distribution, $P(X_j|y=c)$, for each class $c$ and feature $j$ is independent. To adhere to this central assumption for the model, we will only include features that are not strongly correlated to one another. \n",
    "\n",
    "We begin by downloading the data and performing the train-test split. "
   ]
  },
  {
   "cell_type": "code",
   "execution_count": 1,
   "metadata": {},
   "outputs": [],
   "source": [
    "import pandas as pd\n",
    "import numpy as np"
   ]
  },
  {
   "cell_type": "code",
   "execution_count": 2,
   "metadata": {},
   "outputs": [],
   "source": [
    "df = pd.read_parquet(\"/Users/josht/Documents/tweet_stock_merged_data1.parquet\")"
   ]
  },
  {
   "cell_type": "code",
   "execution_count": 3,
   "metadata": {},
   "outputs": [
    {
     "data": {
      "text/html": [
       "<div>\n",
       "<style scoped>\n",
       "    .dataframe tbody tr th:only-of-type {\n",
       "        vertical-align: middle;\n",
       "    }\n",
       "\n",
       "    .dataframe tbody tr th {\n",
       "        vertical-align: top;\n",
       "    }\n",
       "\n",
       "    .dataframe thead th {\n",
       "        text-align: right;\n",
       "    }\n",
       "</style>\n",
       "<table border=\"1\" class=\"dataframe\">\n",
       "  <thead>\n",
       "    <tr style=\"text-align: right;\">\n",
       "      <th></th>\n",
       "      <th>time_stamp</th>\n",
       "      <th>entities_cashtags</th>\n",
       "      <th>entities_hashtags</th>\n",
       "      <th>entities_urls</th>\n",
       "      <th>like_count</th>\n",
       "      <th>quote_count</th>\n",
       "      <th>reply_count</th>\n",
       "      <th>retweet_count</th>\n",
       "      <th>text</th>\n",
       "      <th>entities_mentions</th>\n",
       "      <th>...</th>\n",
       "      <th>Company_ticker</th>\n",
       "      <th>time_of_day</th>\n",
       "      <th>morning</th>\n",
       "      <th>evening</th>\n",
       "      <th>night</th>\n",
       "      <th>buy_price</th>\n",
       "      <th>delta_buy</th>\n",
       "      <th>sell_price</th>\n",
       "      <th>delta_sell</th>\n",
       "      <th>return</th>\n",
       "    </tr>\n",
       "  </thead>\n",
       "  <tbody>\n",
       "    <tr>\n",
       "      <th>68817</th>\n",
       "      <td>2020-06-01 20:19:40</td>\n",
       "      <td>0</td>\n",
       "      <td>2</td>\n",
       "      <td>1</td>\n",
       "      <td>313</td>\n",
       "      <td>27</td>\n",
       "      <td>46</td>\n",
       "      <td>103</td>\n",
       "      <td>Stunning scenes coming out of #Michigan. \\n\\nL...</td>\n",
       "      <td>1</td>\n",
       "      <td>...</td>\n",
       "      <td>ALL</td>\n",
       "      <td>night</td>\n",
       "      <td>0</td>\n",
       "      <td>0</td>\n",
       "      <td>1</td>\n",
       "      <td>96.454914</td>\n",
       "      <td>47480.0</td>\n",
       "      <td>103.063143</td>\n",
       "      <td>303380.0</td>\n",
       "      <td>6.851107</td>\n",
       "    </tr>\n",
       "    <tr>\n",
       "      <th>5927</th>\n",
       "      <td>2021-09-22 08:17:13</td>\n",
       "      <td>0</td>\n",
       "      <td>0</td>\n",
       "      <td>1</td>\n",
       "      <td>13</td>\n",
       "      <td>1</td>\n",
       "      <td>3</td>\n",
       "      <td>0</td>\n",
       "      <td>Entain shares surge for second day on increase...</td>\n",
       "      <td>0</td>\n",
       "      <td>...</td>\n",
       "      <td>MGM</td>\n",
       "      <td>morning</td>\n",
       "      <td>0</td>\n",
       "      <td>1</td>\n",
       "      <td>0</td>\n",
       "      <td>40.999900</td>\n",
       "      <td>767.0</td>\n",
       "      <td>44.610000</td>\n",
       "      <td>427427.0</td>\n",
       "      <td>8.805143</td>\n",
       "    </tr>\n",
       "    <tr>\n",
       "      <th>61878</th>\n",
       "      <td>2020-11-23 09:13:43</td>\n",
       "      <td>0</td>\n",
       "      <td>0</td>\n",
       "      <td>2</td>\n",
       "      <td>48</td>\n",
       "      <td>3</td>\n",
       "      <td>3</td>\n",
       "      <td>6</td>\n",
       "      <td>Here’s why oysters and champagne go so well to...</td>\n",
       "      <td>0</td>\n",
       "      <td>...</td>\n",
       "      <td>SO</td>\n",
       "      <td>morning</td>\n",
       "      <td>0</td>\n",
       "      <td>1</td>\n",
       "      <td>0</td>\n",
       "      <td>60.950000</td>\n",
       "      <td>1037.0</td>\n",
       "      <td>60.940000</td>\n",
       "      <td>345317.0</td>\n",
       "      <td>-0.016407</td>\n",
       "    </tr>\n",
       "    <tr>\n",
       "      <th>43553</th>\n",
       "      <td>2021-04-08 19:26:36</td>\n",
       "      <td>0</td>\n",
       "      <td>0</td>\n",
       "      <td>1</td>\n",
       "      <td>67</td>\n",
       "      <td>0</td>\n",
       "      <td>34</td>\n",
       "      <td>5</td>\n",
       "      <td>that's all we want. We don't want to be whipsa...</td>\n",
       "      <td>0</td>\n",
       "      <td>...</td>\n",
       "      <td>TWTR</td>\n",
       "      <td>night</td>\n",
       "      <td>0</td>\n",
       "      <td>0</td>\n",
       "      <td>1</td>\n",
       "      <td>71.400000</td>\n",
       "      <td>24.0</td>\n",
       "      <td>70.680000</td>\n",
       "      <td>300444.0</td>\n",
       "      <td>-1.008403</td>\n",
       "    </tr>\n",
       "    <tr>\n",
       "      <th>33583</th>\n",
       "      <td>2020-12-10 09:36:26</td>\n",
       "      <td>0</td>\n",
       "      <td>0</td>\n",
       "      <td>1</td>\n",
       "      <td>0</td>\n",
       "      <td>0</td>\n",
       "      <td>1</td>\n",
       "      <td>0</td>\n",
       "      <td>Anthropocene: human-made materials now weigh a...</td>\n",
       "      <td>1</td>\n",
       "      <td>...</td>\n",
       "      <td>NOW</td>\n",
       "      <td>morning</td>\n",
       "      <td>0</td>\n",
       "      <td>1</td>\n",
       "      <td>0</td>\n",
       "      <td>523.490000</td>\n",
       "      <td>34.0</td>\n",
       "      <td>544.800000</td>\n",
       "      <td>336754.0</td>\n",
       "      <td>4.070756</td>\n",
       "    </tr>\n",
       "  </tbody>\n",
       "</table>\n",
       "<p>5 rows × 40 columns</p>\n",
       "</div>"
      ],
      "text/plain": [
       "                time_stamp  entities_cashtags  entities_hashtags  \\\n",
       "68817  2020-06-01 20:19:40                  0                  2   \n",
       "5927   2021-09-22 08:17:13                  0                  0   \n",
       "61878  2020-11-23 09:13:43                  0                  0   \n",
       "43553  2021-04-08 19:26:36                  0                  0   \n",
       "33583  2020-12-10 09:36:26                  0                  0   \n",
       "\n",
       "       entities_urls  like_count  quote_count  reply_count  retweet_count  \\\n",
       "68817              1         313           27           46            103   \n",
       "5927               1          13            1            3              0   \n",
       "61878              2          48            3            3              6   \n",
       "43553              1          67            0           34              5   \n",
       "33583              1           0            0            1              0   \n",
       "\n",
       "                                                    text  entities_mentions  \\\n",
       "68817  Stunning scenes coming out of #Michigan. \\n\\nL...                  1   \n",
       "5927   Entain shares surge for second day on increase...                  0   \n",
       "61878  Here’s why oysters and champagne go so well to...                  0   \n",
       "43553  that's all we want. We don't want to be whipsa...                  0   \n",
       "33583  Anthropocene: human-made materials now weigh a...                  1   \n",
       "\n",
       "       ... Company_ticker  time_of_day  morning  evening  night   buy_price  \\\n",
       "68817  ...            ALL        night        0        0      1   96.454914   \n",
       "5927   ...            MGM      morning        0        1      0   40.999900   \n",
       "61878  ...             SO      morning        0        1      0   60.950000   \n",
       "43553  ...           TWTR        night        0        0      1   71.400000   \n",
       "33583  ...            NOW      morning        0        1      0  523.490000   \n",
       "\n",
       "      delta_buy  sell_price  delta_sell    return  \n",
       "68817   47480.0  103.063143    303380.0  6.851107  \n",
       "5927      767.0   44.610000    427427.0  8.805143  \n",
       "61878    1037.0   60.940000    345317.0 -0.016407  \n",
       "43553      24.0   70.680000    300444.0 -1.008403  \n",
       "33583      34.0  544.800000    336754.0  4.070756  \n",
       "\n",
       "[5 rows x 40 columns]"
      ]
     },
     "execution_count": 3,
     "metadata": {},
     "output_type": "execute_result"
    }
   ],
   "source": [
    "df.sample(5)"
   ]
  },
  {
   "cell_type": "code",
   "execution_count": 4,
   "metadata": {},
   "outputs": [
    {
     "data": {
      "text/plain": [
       "Index(['time_stamp', 'entities_cashtags', 'entities_hashtags', 'entities_urls',\n",
       "       'like_count', 'quote_count', 'reply_count', 'retweet_count', 'text',\n",
       "       'entities_mentions', 'created_at_user', 'followers_count',\n",
       "       'following_count', 'listed_count', 'tweet_count', 'media_type',\n",
       "       'Company_name', 'Word_count_News_agencies', 'Word_count_Henry08_pos',\n",
       "       'Word_count_Henry08_neg', 'Word_count_LM11_pos', 'Word_count_LM11_neg',\n",
       "       'Word_count_Hagenau13_pos', 'Word_count_Hagenau13_neg',\n",
       "       'Tweet_Length_characters', 'Tweet_Length_words', 'Compound_vader',\n",
       "       'Positive_vader', 'Negative_vader', 'Neutral_vader', 'Company_ticker',\n",
       "       'time_of_day', 'morning', 'evening', 'night', 'buy_price', 'delta_buy',\n",
       "       'sell_price', 'delta_sell', 'return'],\n",
       "      dtype='object')"
      ]
     },
     "execution_count": 4,
     "metadata": {},
     "output_type": "execute_result"
    }
   ],
   "source": [
    "df.columns"
   ]
  },
  {
   "cell_type": "code",
   "execution_count": 5,
   "metadata": {},
   "outputs": [],
   "source": [
    "from sklearn.model_selection import train_test_split\n",
    "\n",
    "df_train, df_test = train_test_split(df, test_size = 0.2, shuffle = True)"
   ]
  },
  {
   "cell_type": "code",
   "execution_count": 6,
   "metadata": {},
   "outputs": [
    {
     "data": {
      "text/plain": [
       "(724283, 40)"
      ]
     },
     "execution_count": 6,
     "metadata": {},
     "output_type": "execute_result"
    }
   ],
   "source": [
    "df.shape"
   ]
  },
  {
   "cell_type": "code",
   "execution_count": 7,
   "metadata": {},
   "outputs": [
    {
     "data": {
      "text/plain": [
       "(579426, 40)"
      ]
     },
     "execution_count": 7,
     "metadata": {},
     "output_type": "execute_result"
    }
   ],
   "source": [
    "df_train.shape"
   ]
  },
  {
   "cell_type": "code",
   "execution_count": 8,
   "metadata": {},
   "outputs": [
    {
     "data": {
      "text/plain": [
       "(144857, 40)"
      ]
     },
     "execution_count": 8,
     "metadata": {},
     "output_type": "execute_result"
    }
   ],
   "source": [
    "df_test.shape"
   ]
  },
  {
   "cell_type": "markdown",
   "metadata": {},
   "source": [
    "These are the potential features we will use in our model. The last three are categorical and result from onehot encoding. We will drop the last one to avoid redundancy. "
   ]
  },
  {
   "cell_type": "code",
   "execution_count": 9,
   "metadata": {},
   "outputs": [],
   "source": [
    "potential_features = ['like_count', 'quote_count', 'reply_count', 'retweet_count', 'followers_count', \n",
    "                      'following_count', 'listed_count', 'tweet_count', 'Word_count_News_agencies', \n",
    "                      'Word_count_Henry08_pos', 'Word_count_Henry08_neg', 'Word_count_LM11_pos', \n",
    "                      'Word_count_LM11_neg', 'Word_count_Hagenau13_pos', 'Word_count_Hagenau13_neg', \n",
    "                      'Tweet_Length_characters', 'Tweet_Length_words', 'Compound_vader', 'Positive_vader', \n",
    "                      'Negative_vader', 'Neutral_vader', 'morning', 'evening', 'night']"
   ]
  },
  {
   "cell_type": "markdown",
   "metadata": {},
   "source": [
    "Now, we employ PCA to select uncorrelated quantitative features."
   ]
  },
  {
   "cell_type": "code",
   "execution_count": 10,
   "metadata": {},
   "outputs": [],
   "source": [
    "from sklearn.preprocessing import StandardScaler\n",
    "from sklearn.decomposition import PCA\n",
    "\n",
    "scaler = StandardScaler()\n",
    "pca = PCA()"
   ]
  },
  {
   "cell_type": "code",
   "execution_count": 11,
   "metadata": {},
   "outputs": [],
   "source": [
    "X_quant_train = np.array(df_train[potential_features[:-3]])"
   ]
  },
  {
   "cell_type": "code",
   "execution_count": 12,
   "metadata": {},
   "outputs": [],
   "source": [
    "X_qt_st = scaler.fit_transform(X_quant_train)\n",
    "phi_train = pca.fit_transform(X_qt_st)"
   ]
  },
  {
   "cell_type": "code",
   "execution_count": 13,
   "metadata": {},
   "outputs": [
    {
     "data": {
      "text/plain": [
       "(579426, 21)"
      ]
     },
     "execution_count": 13,
     "metadata": {},
     "output_type": "execute_result"
    }
   ],
   "source": [
    "phi_train.shape"
   ]
  },
  {
   "cell_type": "code",
   "execution_count": 14,
   "metadata": {},
   "outputs": [
    {
     "name": "stdout",
     "output_type": "stream",
     "text": [
      "[1.40934597e+01 1.31595041e+01 1.16750016e+01 1.06370398e+01\n",
      " 8.93990305e+00 5.52588268e+00 5.06843370e+00 4.43066477e+00\n",
      " 4.17350833e+00 3.90597530e+00 3.71161270e+00 3.30746823e+00\n",
      " 2.66763374e+00 2.58382986e+00 2.40633881e+00 2.33297274e+00\n",
      " 4.52914769e-01 4.45340397e-01 2.70156309e-01 2.12351111e-01\n",
      " 8.19350610e-06]\n"
     ]
    }
   ],
   "source": [
    "print(100 * pca.explained_variance_ratio_)"
   ]
  },
  {
   "cell_type": "markdown",
   "metadata": {},
   "source": [
    "Let us get rid of the last five features, as they contribute little to the total variance. Since we centered and scaled the data before applying PCA, the resulting principal components are uncorrelated to one another."
   ]
  },
  {
   "cell_type": "code",
   "execution_count": 15,
   "metadata": {},
   "outputs": [],
   "source": [
    "X_train = np.concatenate((phi_train[:, :-5], np.array(df_train[['morning', 'evening']])), axis=1)"
   ]
  },
  {
   "cell_type": "code",
   "execution_count": 16,
   "metadata": {},
   "outputs": [
    {
     "data": {
      "text/plain": [
       "(579426, 18)"
      ]
     },
     "execution_count": 16,
     "metadata": {},
     "output_type": "execute_result"
    }
   ],
   "source": [
    "np.shape(X_train)"
   ]
  },
  {
   "cell_type": "code",
   "execution_count": 17,
   "metadata": {},
   "outputs": [],
   "source": [
    "phi_test = pca.fit_transform(scaler.fit_transform(np.array(df_test[potential_features[:-3]])))\n",
    "X_test = np.concatenate((phi_test[:, :-5], np.array(df_test[['morning', 'evening']])), axis=1)"
   ]
  },
  {
   "cell_type": "code",
   "execution_count": 18,
   "metadata": {},
   "outputs": [
    {
     "data": {
      "text/plain": [
       "(144857, 18)"
      ]
     },
     "execution_count": 18,
     "metadata": {},
     "output_type": "execute_result"
    }
   ],
   "source": [
    "np.shape(X_test)"
   ]
  },
  {
   "cell_type": "code",
   "execution_count": 19,
   "metadata": {},
   "outputs": [],
   "source": [
    "y_train = np.array(df_train[\"return\"] >= 1.0)\n",
    "y_test = np.array(df_test[\"return\"] >= 1.0)"
   ]
  },
  {
   "cell_type": "markdown",
   "metadata": {},
   "source": [
    "Now, we are ready to train our Naive Bayes Classifier on the training set."
   ]
  },
  {
   "cell_type": "code",
   "execution_count": 20,
   "metadata": {},
   "outputs": [],
   "source": [
    "from sklearn.naive_bayes import GaussianNB"
   ]
  },
  {
   "cell_type": "code",
   "execution_count": 21,
   "metadata": {},
   "outputs": [
    {
     "data": {
      "text/plain": [
       "GaussianNB()"
      ]
     },
     "execution_count": 21,
     "metadata": {},
     "output_type": "execute_result"
    }
   ],
   "source": [
    "NB = GaussianNB()\n",
    "\n",
    "NB.fit(X_train, y_train)"
   ]
  },
  {
   "cell_type": "code",
   "execution_count": 22,
   "metadata": {},
   "outputs": [],
   "source": [
    "pred_train = NB.predict(X_train)"
   ]
  },
  {
   "cell_type": "code",
   "execution_count": 23,
   "metadata": {},
   "outputs": [
    {
     "name": "stdout",
     "output_type": "stream",
     "text": [
      "Training accuracy: 0.6227128226900416\n"
     ]
    }
   ],
   "source": [
    "acc_train = sum(pred_train == y_train)/y_train.shape[0]\n",
    "print(\"Training accuracy:\", acc_train)"
   ]
  },
  {
   "cell_type": "code",
   "execution_count": 24,
   "metadata": {},
   "outputs": [
    {
     "name": "stdout",
     "output_type": "stream",
     "text": [
      "Test accuracy: 0.6175331533857529\n"
     ]
    }
   ],
   "source": [
    "pred_test = NB.predict(X_test)\n",
    "acc_test = sum(pred_test == y_test)/y_test.shape[0]\n",
    "print(\"Test accuracy:\", acc_test)"
   ]
  },
  {
   "cell_type": "code",
   "execution_count": 25,
   "metadata": {},
   "outputs": [
    {
     "name": "stdout",
     "output_type": "stream",
     "text": [
      "Training precision score: 0.37897942234935866\n",
      "Training recall score: 0.038497590971297874\n",
      "Training F1 score: 0.06989508079544583\n",
      "Test precision score: 0.3738232614637109\n",
      "Test recall score: 0.045812322063229195\n",
      "Test F1 score: 0.08162182770567077\n"
     ]
    }
   ],
   "source": [
    "from sklearn.metrics import precision_score\n",
    "from sklearn.metrics import recall_score\n",
    "from sklearn.metrics import f1_score\n",
    "\n",
    "print(\"Training precision score:\", precision_score(y_train, pred_train))\n",
    "print(\"Training recall score:\", recall_score(y_train, pred_train))\n",
    "print(\"Training F1 score:\", f1_score(y_train, pred_train))\n",
    "\n",
    "print(\"Test precision score:\", precision_score(y_test, pred_test))\n",
    "print(\"Test recall score:\", recall_score(y_test, pred_test))\n",
    "print(\"Test F1 score:\", f1_score(y_test, pred_test))"
   ]
  },
  {
   "cell_type": "code",
   "execution_count": 26,
   "metadata": {},
   "outputs": [
    {
     "name": "stdout",
     "output_type": "stream",
     "text": [
      "Training ROC AUC: 0.5008639317194017\n",
      "Test ROC AUC: 0.5002756680336778\n"
     ]
    }
   ],
   "source": [
    "from sklearn.metrics import roc_auc_score\n",
    "\n",
    "auc_train = roc_auc_score(y_train, pred_train)\n",
    "print(\"Training ROC AUC:\", auc_train)\n",
    "\n",
    "auc_test = roc_auc_score(y_test, pred_test)\n",
    "print(\"Test ROC AUC:\", auc_test)"
   ]
  },
  {
   "cell_type": "code",
   "execution_count": 68,
   "metadata": {},
   "outputs": [
    {
     "name": "stdout",
     "output_type": "stream",
     "text": [
      "0.36823338959591045\n",
      "0.03740598454332391\n"
     ]
    }
   ],
   "source": [
    "print(np.sum(y_train)/np.shape(y_train)[0])\n",
    "print(np.sum(pred_train)/np.shape(pred_train)[0])"
   ]
  },
  {
   "cell_type": "code",
   "execution_count": 69,
   "metadata": {},
   "outputs": [
    {
     "name": "stdout",
     "output_type": "stream",
     "text": [
      "0.3709934625182076\n",
      "0.04546552807251289\n"
     ]
    }
   ],
   "source": [
    "print(np.sum(y_test)/np.shape(y_test)[0])\n",
    "print(np.sum(pred_test)/np.shape(pred_test)[0])"
   ]
  },
  {
   "cell_type": "markdown",
   "metadata": {},
   "source": [
    "The AUC is basically that of a random model. Also, the model rarely predicts a stock to have return of at least 1%."
   ]
  },
  {
   "cell_type": "markdown",
   "metadata": {},
   "source": [
    "## Quadratic Discriminant Analysis\n",
    "\n",
    "QDA assumes that the joint likelihood distribution for each class $c$ is a multivariate normal distribution: $P(X_1,\\ldots,X_m|y=c) \\sim \\mathcal{N}(\\mu_c, \\Sigma_c)$. In order to closely approximate the model assumption, we will take the logarithm of some of the features whose distributions are highly skewed to the right.\n",
    "\n",
    "Then, the natural starting point is to look at the histogram of all quantitative features."
   ]
  },
  {
   "cell_type": "code",
   "execution_count": 27,
   "metadata": {},
   "outputs": [
    {
     "data": {
      "image/png": "[encoded data removed]",
      "text/plain": [
       "<Figure size 1800x12960 with 42 Axes>"
      ]
     },
     "metadata": {
      "needs_background": "light"
     },
     "output_type": "display_data"
    }
   ],
   "source": [
    "import matplotlib.pyplot as plt\n",
    "\n",
    "fig, ax = plt.subplots(len(potential_features)-3, 2, figsize=(25,180))\n",
    "\n",
    "for i in range(len(potential_features)-3):\n",
    "    ax[i, 0].hist(df_train[potential_features[i]], bins=20)\n",
    "    ax[i, 0].set_title(potential_features[i])\n",
    "    ax[i, 1].hist(np.log(1 + df_train[potential_features[i]]), bins=20)\n",
    "    ax[i, 1].set_title(\"log(1 + \"+potential_features[i]+\")\")"
   ]
  },
  {
   "cell_type": "markdown",
   "metadata": {},
   "source": [
    "It is unfortunately the case for a lot of features that neither its logarithm nor the feature itself is normally distributed. However, we will do the best we can. The features whose distribution become closer to normal distribution once one takes the logarithm are listed below. "
   ]
  },
  {
   "cell_type": "code",
   "execution_count": 28,
   "metadata": {},
   "outputs": [],
   "source": [
    "features_log = ['like_count', 'quote_count', 'reply_count', 'retweet_count', 'following_count', \n",
    "                'Tweet_Length_characters', 'Tweet_Length_words']\n",
    "features_non_log = [x for x in potential_features[:-1] if x not in features_log]"
   ]
  },
  {
   "cell_type": "code",
   "execution_count": 29,
   "metadata": {},
   "outputs": [],
   "source": [
    "X_train2 = np.concatenate((np.array(np.log(1 + df_train[features_log])), \n",
    "                          np.array(df_train[features_non_log])), axis=1)\n",
    "X_test2 = np.concatenate((np.array(np.log(1 + df_test[features_log])), \n",
    "                          np.array(df_test[features_non_log])), axis=1)"
   ]
  },
  {
   "cell_type": "code",
   "execution_count": 30,
   "metadata": {},
   "outputs": [],
   "source": [
    "y_train2 = np.array(df_train[\"return\"] >= 1.0)\n",
    "y_test2 = np.array(df_test[\"return\"] >= 1.0)"
   ]
  },
  {
   "cell_type": "code",
   "execution_count": 31,
   "metadata": {},
   "outputs": [],
   "source": [
    "from sklearn.discriminant_analysis import QuadraticDiscriminantAnalysis\n",
    "\n",
    "QDA = QuadraticDiscriminantAnalysis()"
   ]
  },
  {
   "cell_type": "code",
   "execution_count": 32,
   "metadata": {},
   "outputs": [
    {
     "data": {
      "text/plain": [
       "QuadraticDiscriminantAnalysis()"
      ]
     },
     "execution_count": 32,
     "metadata": {},
     "output_type": "execute_result"
    }
   ],
   "source": [
    "QDA.fit(X_train2, y_train2)"
   ]
  },
  {
   "cell_type": "code",
   "execution_count": 33,
   "metadata": {},
   "outputs": [
    {
     "name": "stdout",
     "output_type": "stream",
     "text": [
      "Training accuracy: 0.6226852091552675\n",
      "Test accuracy: 0.6201219133352203\n"
     ]
    }
   ],
   "source": [
    "pred_train2 = QDA.predict(X_train2)\n",
    "acc_train2 = sum(pred_train2 == y_train2)/y_train2.shape[0]\n",
    "print(\"Training accuracy:\", acc_train2)\n",
    "\n",
    "pred_test2 = QDA.predict(X_test2)\n",
    "acc_test2 = sum(pred_test2 == y_test2)/y_test2.shape[0]\n",
    "print(\"Test accuracy:\", acc_test2)"
   ]
  },
  {
   "cell_type": "code",
   "execution_count": 34,
   "metadata": {},
   "outputs": [
    {
     "name": "stdout",
     "output_type": "stream",
     "text": [
      "Training precision score: 0.39825199164668573\n",
      "Training recall score: 0.04826493691531842\n",
      "Training F1 score: 0.08609576042337243\n",
      "Test precision score: 0.4007403979639056\n",
      "Test recall score: 0.048342978359167114\n",
      "Test F1 score: 0.0862778958554729\n"
     ]
    }
   ],
   "source": [
    "print(\"Training precision score:\", precision_score(y_train2, pred_train2))\n",
    "print(\"Training recall score:\", recall_score(y_train2, pred_train2))\n",
    "print(\"Training F1 score:\", f1_score(y_train2, pred_train2))\n",
    "\n",
    "print(\"Test precision score:\", precision_score(y_test2, pred_test2))\n",
    "print(\"Test recall score:\", recall_score(y_test2, pred_test2))\n",
    "print(\"Test F1 score:\", f1_score(y_test2, pred_test2))"
   ]
  },
  {
   "cell_type": "code",
   "execution_count": 35,
   "metadata": {},
   "outputs": [
    {
     "name": "stdout",
     "output_type": "stream",
     "text": [
      "Training ROC AUC: 0.5028792381305561\n",
      "Test ROC AUC: 0.5028525111735254\n"
     ]
    }
   ],
   "source": [
    "auc_train2 = roc_auc_score(y_train2, pred_train2)\n",
    "print(\"Training ROC AUC:\", auc_train2)\n",
    "\n",
    "auc_test2 = roc_auc_score(y_test2, pred_test2)\n",
    "print(\"Test ROC AUC:\", auc_test2)"
   ]
  },
  {
   "cell_type": "code",
   "execution_count": 70,
   "metadata": {},
   "outputs": [
    {
     "name": "stdout",
     "output_type": "stream",
     "text": [
      "0.36823338959591045\n"
     ]
    },
    {
     "data": {
      "text/plain": [
       "0.04462692388674309"
      ]
     },
     "execution_count": 70,
     "metadata": {},
     "output_type": "execute_result"
    }
   ],
   "source": [
    "print(np.sum(y_train2)/np.shape(y_train2)[0])\n",
    "np.sum(pred_train2)/np.shape(pred_train2)[0]"
   ]
  },
  {
   "cell_type": "code",
   "execution_count": 54,
   "metadata": {},
   "outputs": [
    {
     "name": "stdout",
     "output_type": "stream",
     "text": [
      "0.3709934625182076\n"
     ]
    },
    {
     "data": {
      "text/plain": [
       "0.04475448200639251"
      ]
     },
     "execution_count": 54,
     "metadata": {},
     "output_type": "execute_result"
    }
   ],
   "source": [
    "print(np.sum(y_test2)/np.shape(y_test2)[0])\n",
    "np.sum(pred_test2)/np.shape(pred_test2)[0]"
   ]
  },
  {
   "cell_type": "markdown",
   "metadata": {},
   "source": [
    "The model performs better than the Naive Bayes model, but the AUC score is still very close to 0.50, indicating the noisy nature of the stock data. The model similarly associate most tweets with stock return less than 1%."
   ]
  },
  {
   "cell_type": "markdown",
   "metadata": {},
   "source": [
    "## Tweet Filtering\n",
    "\n",
    "The models do not perform very well when we use all the tweets. We will attempt to fit each model on popular tweets only. First, we will only use tweets with at least 20 retweets. \n",
    "\n",
    "Let's start with the Naive Bayes Model."
   ]
  },
  {
   "cell_type": "code",
   "execution_count": 36,
   "metadata": {},
   "outputs": [
    {
     "data": {
      "text/plain": [
       "0.25814167814354205"
      ]
     },
     "execution_count": 36,
     "metadata": {},
     "output_type": "execute_result"
    }
   ],
   "source": [
    "df_train.loc[df_train[\"retweet_count\"] >= 20].shape[0] / df_train[\"retweet_count\"].shape[0]"
   ]
  },
  {
   "cell_type": "code",
   "execution_count": 37,
   "metadata": {},
   "outputs": [],
   "source": [
    "X11_train_qt = np.array(df_train.loc[df_train[\"retweet_count\"] >= 20][potential_features[:-3]])\n",
    "X11_test_qt = np.array(df_test.loc[df_test[\"retweet_count\"] >= 20][potential_features[:-3]])\n",
    "y11_train = np.array(df_train.loc[df_train[\"retweet_count\"] >= 20][\"return\"] >= 1.0)\n",
    "y11_test = np.array(df_test.loc[df_test[\"retweet_count\"] >= 20][\"return\"] >= 1.0)"
   ]
  },
  {
   "cell_type": "code",
   "execution_count": 38,
   "metadata": {},
   "outputs": [],
   "source": [
    "scaler11 = StandardScaler()\n",
    "pca11 = PCA()\n",
    "\n",
    "X11_train_int = scaler11.fit_transform(X11_train_qt)\n",
    "X11_train_pca = pca11.fit_transform(X11_train_int)"
   ]
  },
  {
   "cell_type": "code",
   "execution_count": 39,
   "metadata": {},
   "outputs": [],
   "source": [
    "X11_train = np.concatenate((X11_train_pca, np.array(df_train.loc[df_train[\"retweet_count\"] >= 20][['morning', 'evening']])), axis=1)\n",
    "X11_test_pca = PCA().fit_transform(StandardScaler().fit_transform(X11_test_qt))\n",
    "X11_test = np.concatenate((X11_test_pca, np.array(df_test.loc[df_test[\"retweet_count\"] >= 20][['morning', 'evening']])), axis=1)\n"
   ]
  },
  {
   "cell_type": "code",
   "execution_count": 40,
   "metadata": {},
   "outputs": [
    {
     "data": {
      "text/plain": [
       "GaussianNB()"
      ]
     },
     "execution_count": 40,
     "metadata": {},
     "output_type": "execute_result"
    }
   ],
   "source": [
    "NB11 = GaussianNB()\n",
    "\n",
    "NB11.fit(X11_train, y11_train)"
   ]
  },
  {
   "cell_type": "code",
   "execution_count": 41,
   "metadata": {},
   "outputs": [
    {
     "name": "stdout",
     "output_type": "stream",
     "text": [
      "Training accuracy: 0.6184430449142231\n",
      "Test accuracy: 0.6185301456974965\n"
     ]
    }
   ],
   "source": [
    "pred11_train = NB11.predict(X11_train)\n",
    "acc11_train = sum(pred11_train == y11_train)/y11_train.shape[0]\n",
    "print(\"Training accuracy:\", acc11_train)\n",
    "\n",
    "pred11_test = NB11.predict(X11_test)\n",
    "acc11_test = sum(pred11_test == y11_test)/y11_test.shape[0]\n",
    "print(\"Test accuracy:\", acc11_test)"
   ]
  },
  {
   "cell_type": "code",
   "execution_count": 42,
   "metadata": {},
   "outputs": [
    {
     "name": "stdout",
     "output_type": "stream",
     "text": [
      "Training precision score: 0.41089016911354764\n",
      "Training recall score: 0.03940333618477331\n",
      "Training F1 score: 0.07191062397346039\n",
      "Test precision score: 0.4249485949280329\n",
      "Test recall score: 0.04429204172024575\n",
      "Test F1 score: 0.08022255288865886\n"
     ]
    }
   ],
   "source": [
    "print(\"Training precision score:\", precision_score(y11_train, pred11_train))\n",
    "print(\"Training recall score:\", recall_score(y11_train, pred11_train))\n",
    "print(\"Training F1 score:\", f1_score(y11_train, pred11_train))\n",
    "\n",
    "print(\"Test precision score:\", precision_score(y11_test, pred11_test))\n",
    "print(\"Test recall score:\", recall_score(y11_test, pred11_test))\n",
    "print(\"Test F1 score:\", f1_score(y11_test, pred11_test))"
   ]
  },
  {
   "cell_type": "code",
   "execution_count": 43,
   "metadata": {},
   "outputs": [
    {
     "name": "stdout",
     "output_type": "stream",
     "text": [
      "Training ROC AUC: 0.5027429041027437\n",
      "Test ROC AUC: 0.5041192923138635\n"
     ]
    }
   ],
   "source": [
    "from sklearn.metrics import roc_auc_score\n",
    "\n",
    "auc11_train = roc_auc_score(y11_train, pred11_train)\n",
    "print(\"Training ROC AUC:\", auc11_train)\n",
    "\n",
    "auc11_test = roc_auc_score(y11_test, pred11_test)\n",
    "print(\"Test ROC AUC:\", auc11_test)"
   ]
  },
  {
   "cell_type": "code",
   "execution_count": 71,
   "metadata": {},
   "outputs": [
    {
     "name": "stdout",
     "output_type": "stream",
     "text": [
      "0.3751454129728429\n"
     ]
    },
    {
     "data": {
      "text/plain": [
       "0.035975503764023156"
      ]
     },
     "execution_count": 71,
     "metadata": {},
     "output_type": "execute_result"
    }
   ],
   "source": [
    "print(np.sum(y11_train)/np.shape(y11_train)[0])\n",
    "np.sum(pred11_train)/np.shape(pred11_train)[0]"
   ]
  },
  {
   "cell_type": "code",
   "execution_count": 56,
   "metadata": {},
   "outputs": [
    {
     "name": "stdout",
     "output_type": "stream",
     "text": [
      "0.3755936569266683\n"
     ]
    },
    {
     "data": {
      "text/plain": [
       "0.039147817220746464"
      ]
     },
     "execution_count": 56,
     "metadata": {},
     "output_type": "execute_result"
    }
   ],
   "source": [
    "print(np.sum(y11_test)/np.shape(y11_test)[0])\n",
    "np.sum(pred11_test)/np.shape(pred11_test)[0]"
   ]
  },
  {
   "cell_type": "markdown",
   "metadata": {},
   "source": [
    "This version of Naive Bayes performs significantly better than Naive Bayes trained on all the tweets, with the AUC score comparable to QDA trained on all the tweets. Like before, the model very rarely predicts a stock return of 1% or more.\n",
    "\n",
    "Now, let's train a QDA model on the data with at least 20 retweets."
   ]
  },
  {
   "cell_type": "code",
   "execution_count": 44,
   "metadata": {},
   "outputs": [],
   "source": [
    "X12_train = np.concatenate((np.array(np.log(1 + df_train.loc[df_train[\"retweet_count\"] >= 20][features_log])),\n",
    "                            np.array(df_train.loc[df_train[\"retweet_count\"] >= 20][features_non_log])), axis=1)\n",
    "X12_test = np.concatenate((np.array(np.log(1 + df_test.loc[df_test[\"retweet_count\"] >= 20][features_log])),\n",
    "                           np.array(df_test.loc[df_test[\"retweet_count\"] >= 20][features_non_log])), axis=1)"
   ]
  },
  {
   "cell_type": "code",
   "execution_count": 45,
   "metadata": {},
   "outputs": [],
   "source": [
    "y12_train = y11_train\n",
    "y12_test = y11_test"
   ]
  },
  {
   "cell_type": "code",
   "execution_count": 46,
   "metadata": {},
   "outputs": [
    {
     "data": {
      "text/plain": [
       "QuadraticDiscriminantAnalysis()"
      ]
     },
     "execution_count": 46,
     "metadata": {},
     "output_type": "execute_result"
    }
   ],
   "source": [
    "from sklearn.discriminant_analysis import QuadraticDiscriminantAnalysis\n",
    "\n",
    "QDA12 = QuadraticDiscriminantAnalysis()\n",
    "QDA12.fit(X12_train, y12_train)"
   ]
  },
  {
   "cell_type": "code",
   "execution_count": 47,
   "metadata": {},
   "outputs": [
    {
     "name": "stdout",
     "output_type": "stream",
     "text": [
      "Training accuracy: 0.6248077874496905\n",
      "Test accuracy: 0.6244600069763074\n"
     ]
    }
   ],
   "source": [
    "pred12_train = QDA12.predict(X11_train)\n",
    "acc12_train = sum(pred12_train == y12_train)/y12_train.shape[0]\n",
    "print(\"Training accuracy:\", acc12_train)\n",
    "\n",
    "pred12_test = QDA12.predict(X11_test)\n",
    "acc12_test = sum(pred12_test == y12_test)/y12_test.shape[0]\n",
    "print(\"Test accuracy:\", acc12_test)"
   ]
  },
  {
   "cell_type": "code",
   "execution_count": 48,
   "metadata": {},
   "outputs": [
    {
     "name": "stdout",
     "output_type": "stream",
     "text": [
      "Training precision score: 0.4\n",
      "Training recall score: 0.000249500998003992\n",
      "Training F1 score: 0.0004986909362922329\n",
      "Test precision score: 0.5833333333333334\n",
      "Test recall score: 0.0005000714387769681\n",
      "Test F1 score: 0.0009992862241256246\n"
     ]
    }
   ],
   "source": [
    "print(\"Training precision score:\", precision_score(y12_train, pred12_train))\n",
    "print(\"Training recall score:\", recall_score(y12_train, pred12_train))\n",
    "print(\"Training F1 score:\", f1_score(y12_train, pred12_train))\n",
    "\n",
    "print(\"Test precision score:\", precision_score(y12_test, pred12_test))\n",
    "print(\"Test recall score:\", recall_score(y12_test, pred12_test))\n",
    "print(\"Test F1 score:\", f1_score(y12_test, pred12_test))"
   ]
  },
  {
   "cell_type": "code",
   "execution_count": 49,
   "metadata": {},
   "outputs": [
    {
     "name": "stdout",
     "output_type": "stream",
     "text": [
      "Training ROC AUC: 0.5000124053747803\n",
      "Test ROC AUC: 0.5001426058710795\n"
     ]
    }
   ],
   "source": [
    "auc12_train = roc_auc_score(y12_train, pred12_train)\n",
    "print(\"Training ROC AUC:\", auc12_train)\n",
    "\n",
    "auc12_test = roc_auc_score(y12_test, pred12_test)\n",
    "print(\"Test ROC AUC:\", auc12_test)"
   ]
  },
  {
   "cell_type": "code",
   "execution_count": 72,
   "metadata": {},
   "outputs": [
    {
     "name": "stdout",
     "output_type": "stream",
     "text": [
      "0.3751454129728429\n"
     ]
    },
    {
     "data": {
      "text/plain": [
       "0.00023399788733336008"
      ]
     },
     "execution_count": 72,
     "metadata": {},
     "output_type": "execute_result"
    }
   ],
   "source": [
    "print(np.sum(y12_train)/np.shape(y12_train)[0])\n",
    "np.sum(pred12_train)/np.shape(pred12_train)[0]"
   ]
  },
  {
   "cell_type": "code",
   "execution_count": 57,
   "metadata": {},
   "outputs": [
    {
     "name": "stdout",
     "output_type": "stream",
     "text": [
      "0.3755936569266683\n"
     ]
    },
    {
     "data": {
      "text/plain": [
       "0.0003219834178539805"
      ]
     },
     "execution_count": 57,
     "metadata": {},
     "output_type": "execute_result"
    }
   ],
   "source": [
    "print(np.sum(y12_test)/np.shape(y12_test)[0])\n",
    "np.sum(pred12_test)/np.shape(pred12_test)[0]"
   ]
  },
  {
   "cell_type": "markdown",
   "metadata": {},
   "source": [
    "Surprisingly, training QDA on tweets with at least 20 retweets do not result in a good performance. This is directly related to the fact that QDA trained in this way almost never predict a stock return of 1% or greater, even more seldom than all the models we trained previously."
   ]
  },
  {
   "cell_type": "markdown",
   "metadata": {},
   "source": [
    "## 0% Threshold\n",
    "\n",
    "To see if the model could have any predictive power, we try to train each of them on the same data but put the criterion for stock return to 0% instead of 1% considered previously.\n",
    "\n",
    "### Naive Bayes -- All Tweets"
   ]
  },
  {
   "cell_type": "code",
   "execution_count": 77,
   "metadata": {},
   "outputs": [
    {
     "name": "stdout",
     "output_type": "stream",
     "text": [
      "Training accuracy: 0.5521550638045238\n",
      "Training precision score: 0.5540944789220276\n",
      "Training recall score: 0.9824251597712748\n",
      "Training F1 score: 0.7085576302119893\n",
      "Training ROC AUC score: 0.49990648176763874\n",
      "Test accuracy: 0.5505981761323236\n",
      "Test precision score: 0.554709096522657\n",
      "Test recall score: 0.9616370833229605\n",
      "Test F1 score: 0.7035713147337792\n",
      "Test ROC AUC score: 0.5002081788226266\n"
     ]
    }
   ],
   "source": [
    "X31_train = X_train\n",
    "X31_test = X_test\n",
    "y31_train = np.array(df_train[\"return\"] >= 0.0)\n",
    "y31_test = np.array(df_test[\"return\"] >= 0.0)\n",
    "\n",
    "NB31 = GaussianNB()\n",
    "NB31.fit(X31_train, y31_train)\n",
    "\n",
    "pred31_train = NB31.predict(X31_train)\n",
    "pred31_test = NB31.predict(X31_test)\n",
    "\n",
    "print(\"Training accuracy:\", sum(pred31_train == y31_train)/y31_train.shape[0])\n",
    "print(\"Training precision score:\", precision_score(y31_train, pred31_train))\n",
    "print(\"Training recall score:\", recall_score(y31_train, pred31_train))\n",
    "print(\"Training F1 score:\", f1_score(y31_train, pred31_train))\n",
    "print(\"Training ROC AUC score:\", roc_auc_score(y31_train, pred31_train))\n",
    "\n",
    "print(\"Test accuracy:\", sum(pred31_test == y31_test)/y31_test.shape[0])\n",
    "print(\"Test precision score:\", precision_score(y31_test, pred31_test))\n",
    "print(\"Test recall score:\", recall_score(y31_test, pred31_test))\n",
    "print(\"Test F1 score:\", f1_score(y31_test, pred31_test))\n",
    "print(\"Test ROC AUC score:\", roc_auc_score(y31_test, pred31_test))"
   ]
  },
  {
   "cell_type": "code",
   "execution_count": 78,
   "metadata": {
    "scrolled": true
   },
   "outputs": [
    {
     "name": "stdout",
     "output_type": "stream",
     "text": [
      "0.5541415124623335\n"
     ]
    },
    {
     "data": {
      "text/plain": [
       "0.9825085515665504"
      ]
     },
     "execution_count": 78,
     "metadata": {},
     "output_type": "execute_result"
    }
   ],
   "source": [
    "print(np.sum(y31_train)/np.shape(y31_train)[0])\n",
    "np.sum(pred31_train)/np.shape(pred31_train)[0]"
   ]
  },
  {
   "cell_type": "code",
   "execution_count": 79,
   "metadata": {},
   "outputs": [
    {
     "name": "stdout",
     "output_type": "stream",
     "text": [
      "0.5546021248541665\n"
     ]
    },
    {
     "data": {
      "text/plain": [
       "0.9614516385124641"
      ]
     },
     "execution_count": 79,
     "metadata": {},
     "output_type": "execute_result"
    }
   ],
   "source": [
    "print(np.sum(y31_test)/np.shape(y31_test)[0])\n",
    "np.sum(pred31_test)/np.shape(pred31_test)[0]"
   ]
  },
  {
   "cell_type": "code",
   "execution_count": 105,
   "metadata": {},
   "outputs": [],
   "source": [
    "def neg(y31_train):\n",
    "    return np.array([not y31_train[i] for i in range(len(y31_train))])"
   ]
  },
  {
   "cell_type": "code",
   "execution_count": 106,
   "metadata": {},
   "outputs": [
    {
     "name": "stdout",
     "output_type": "stream",
     "text": [
      "Training precision score: 0.4432165762210163\n",
      "Training recall score: 0.017387803764002757\n",
      "Test precision score: 0.4480659025787966\n",
      "Test recall score: 0.03877927432229266\n"
     ]
    }
   ],
   "source": [
    "print(\"Training precision score:\", precision_score(neg(y31_train), neg(pred31_train)))\n",
    "print(\"Training recall score:\", recall_score(neg(y31_train), neg(pred31_train)))\n",
    "print(\"Test precision score:\", precision_score(neg(y31_test), neg(pred31_test)))\n",
    "print(\"Test recall score:\", recall_score(neg(y31_test), neg(pred31_test)))"
   ]
  },
  {
   "cell_type": "markdown",
   "metadata": {},
   "source": [
    "### Naive Bayes -- Popular Tweets"
   ]
  },
  {
   "cell_type": "code",
   "execution_count": 80,
   "metadata": {},
   "outputs": [
    {
     "name": "stdout",
     "output_type": "stream",
     "text": [
      "Training accuracy: 0.5516199339457393\n",
      "Training precision score: 0.5566795930984095\n",
      "Training recall score: 0.9523809523809523\n",
      "Training F1 score: 0.7026504571129614\n",
      "Training ROC AUC score: 0.5008092913534967\n",
      "Test accuracy: 0.5381147870884649\n",
      "Test precision score: 0.5521736456988255\n",
      "Test recall score: 0.8715062111801242\n",
      "Test F1 score: 0.6760266496028907\n",
      "Test ROC AUC score: 0.49862448185799324\n"
     ]
    }
   ],
   "source": [
    "X41_train = X11_train\n",
    "X41_test = X11_test\n",
    "y41_train = np.array(df_train.loc[df_train[\"retweet_count\"] >= 20][\"return\"] >= 0.0)\n",
    "y41_test = np.array(df_test.loc[df_test[\"retweet_count\"] >= 20][\"return\"] >= 0.0)\n",
    "\n",
    "NB41 = GaussianNB()\n",
    "NB41.fit(X41_train, y41_train)\n",
    "\n",
    "pred41_train = NB41.predict(X41_train)\n",
    "pred41_test = NB41.predict(X41_test)\n",
    "\n",
    "print(\"Training accuracy:\", sum(pred41_train == y41_train)/y41_train.shape[0])\n",
    "print(\"Training precision score:\", precision_score(y41_train, pred41_train))\n",
    "print(\"Training recall score:\", recall_score(y41_train, pred41_train))\n",
    "print(\"Training F1 score:\", f1_score(y41_train, pred41_train))\n",
    "print(\"Training ROC AUC score:\", roc_auc_score(y41_train, pred41_train))\n",
    "\n",
    "print(\"Test accuracy:\", sum(pred41_test == y41_test)/y41_test.shape[0])\n",
    "print(\"Test precision score:\", precision_score(y41_test, pred41_test))\n",
    "print(\"Test recall score:\", recall_score(y41_test, pred41_test))\n",
    "print(\"Test F1 score:\", f1_score(y41_test, pred41_test))\n",
    "print(\"Test ROC AUC score:\", roc_auc_score(y41_test, pred41_test))"
   ]
  },
  {
   "cell_type": "code",
   "execution_count": 81,
   "metadata": {},
   "outputs": [
    {
     "name": "stdout",
     "output_type": "stream",
     "text": [
      "0.5562597777688636\n"
     ]
    },
    {
     "data": {
      "text/plain": [
       "0.9516627221308516"
      ]
     },
     "execution_count": 81,
     "metadata": {},
     "output_type": "execute_result"
    }
   ],
   "source": [
    "print(np.sum(y41_train)/np.shape(y41_train)[0])\n",
    "np.sum(pred41_train)/np.shape(pred41_train)[0]"
   ]
  },
  {
   "cell_type": "code",
   "execution_count": 82,
   "metadata": {},
   "outputs": [
    {
     "name": "stdout",
     "output_type": "stream",
     "text": [
      "0.5529528562612359\n"
     ]
    },
    {
     "data": {
      "text/plain": [
       "0.8727360540932142"
      ]
     },
     "execution_count": 82,
     "metadata": {},
     "output_type": "execute_result"
    }
   ],
   "source": [
    "print(np.sum(y41_test)/np.shape(y41_test)[0])\n",
    "np.sum(pred41_test)/np.shape(pred41_test)[0]"
   ]
  },
  {
   "cell_type": "code",
   "execution_count": 107,
   "metadata": {},
   "outputs": [
    {
     "name": "stdout",
     "output_type": "stream",
     "text": [
      "Training precision score: 0.4520055325034578\n",
      "Training recall score: 0.0492376303260411\n",
      "Test precision score: 0.44170356314568837\n",
      "Test recall score: 0.1257427525358622\n"
     ]
    }
   ],
   "source": [
    "print(\"Training precision score:\", precision_score(neg(y41_train), neg(pred41_train)))\n",
    "print(\"Training recall score:\", recall_score(neg(y41_train), neg(pred41_train)))\n",
    "print(\"Test precision score:\", precision_score(neg(y41_test), neg(pred41_test)))\n",
    "print(\"Test recall score:\", recall_score(neg(y41_test), neg(pred41_test)))"
   ]
  },
  {
   "cell_type": "markdown",
   "metadata": {},
   "source": [
    "### QDA -- All Tweets"
   ]
  },
  {
   "cell_type": "code",
   "execution_count": 83,
   "metadata": {},
   "outputs": [
    {
     "name": "stdout",
     "output_type": "stream",
     "text": [
      "Training accuracy: 0.5478111096153779\n",
      "Training precision score: 0.5566526650938872\n",
      "Training recall score: 0.9038818502323379\n",
      "Training F1 score: 0.6889919212206245\n",
      "Training ROC AUC score: 0.5045727077918469\n",
      "Test accuracy: 0.54643545013358\n",
      "Test precision score: 0.556223973939366\n",
      "Test recall score: 0.9011551196196071\n",
      "Test F1 score: 0.6878705533596838\n",
      "Test ROC AUC score: 0.5029497292482636\n"
     ]
    }
   ],
   "source": [
    "X32_train = X_train2\n",
    "X32_test = X_test2\n",
    "y32_train = np.array(df_train[\"return\"] >= 0.0)\n",
    "y32_test = np.array(df_test[\"return\"] >= 0.0)\n",
    "\n",
    "QDA32 = QuadraticDiscriminantAnalysis()\n",
    "QDA32.fit(X32_train, y32_train)\n",
    "\n",
    "pred32_train = QDA32.predict(X32_train)\n",
    "pred32_test = QDA32.predict(X32_test)\n",
    "\n",
    "print(\"Training accuracy:\", sum(pred32_train == y32_train)/y32_train.shape[0])\n",
    "print(\"Training precision score:\", precision_score(y32_train, pred32_train))\n",
    "print(\"Training recall score:\", recall_score(y32_train, pred32_train))\n",
    "print(\"Training F1 score:\", f1_score(y32_train, pred32_train))\n",
    "print(\"Training ROC AUC score:\", roc_auc_score(y32_train, pred32_train))\n",
    "\n",
    "print(\"Test accuracy:\", sum(pred32_test == y32_test)/y32_test.shape[0])\n",
    "print(\"Test precision score:\", precision_score(y32_test, pred32_test))\n",
    "print(\"Test recall score:\", recall_score(y32_test, pred32_test))\n",
    "print(\"Test F1 score:\", f1_score(y32_test, pred32_test))\n",
    "print(\"Test ROC AUC score:\", roc_auc_score(y32_test, pred32_test))"
   ]
  },
  {
   "cell_type": "code",
   "execution_count": 84,
   "metadata": {},
   "outputs": [
    {
     "name": "stdout",
     "output_type": "stream",
     "text": [
      "0.5541415124623335\n"
     ]
    },
    {
     "data": {
      "text/plain": [
       "0.8998042890722888"
      ]
     },
     "execution_count": 84,
     "metadata": {},
     "output_type": "execute_result"
    }
   ],
   "source": [
    "print(np.sum(y32_train)/np.shape(y32_train)[0])\n",
    "np.sum(pred32_train)/np.shape(pred32_train)[0]"
   ]
  },
  {
   "cell_type": "code",
   "execution_count": 85,
   "metadata": {},
   "outputs": [
    {
     "name": "stdout",
     "output_type": "stream",
     "text": [
      "0.5546021248541665\n"
     ]
    },
    {
     "data": {
      "text/plain": [
       "0.898527513340743"
      ]
     },
     "execution_count": 85,
     "metadata": {},
     "output_type": "execute_result"
    }
   ],
   "source": [
    "print(np.sum(y32_test)/np.shape(y32_test)[0])\n",
    "np.sum(pred32_test)/np.shape(pred32_test)[0]"
   ]
  },
  {
   "cell_type": "code",
   "execution_count": 108,
   "metadata": {},
   "outputs": [
    {
     "name": "stdout",
     "output_type": "stream",
     "text": [
      "Training precision score: 0.46840981121675623\n",
      "Training recall score: 0.10526356535135595\n",
      "Test precision score: 0.45975916729029187\n",
      "Test recall score: 0.10474433887691997\n"
     ]
    }
   ],
   "source": [
    "print(\"Training precision score:\", precision_score(neg(y32_train), neg(pred32_train)))\n",
    "print(\"Training recall score:\", recall_score(neg(y32_train), neg(pred32_train)))\n",
    "print(\"Test precision score:\", precision_score(neg(y32_test), neg(pred32_test)))\n",
    "print(\"Test recall score:\", recall_score(neg(y32_test), neg(pred32_test)))"
   ]
  },
  {
   "cell_type": "markdown",
   "metadata": {},
   "source": [
    "### QDA -- Popular Tweets"
   ]
  },
  {
   "cell_type": "code",
   "execution_count": 86,
   "metadata": {},
   "outputs": [
    {
     "name": "stdout",
     "output_type": "stream",
     "text": [
      "Training accuracy: 0.5523152419538155\n",
      "Training precision score: 0.5612968974107345\n",
      "Training recall score: 0.8936684214321771\n",
      "Training F1 score: 0.6895192700025965\n",
      "Training ROC AUC score: 0.509036645477735\n",
      "Test accuracy: 0.5462180364377901\n",
      "Test precision score: 0.555891604161626\n",
      "Test recall score: 0.8918866459627329\n",
      "Test F1 score: 0.6849008794157102\n",
      "Test ROC AUC score: 0.5052734952399344\n"
     ]
    }
   ],
   "source": [
    "X42_train = X12_train\n",
    "X42_test = X12_test\n",
    "y42_train = y41_train\n",
    "y42_test = y41_test\n",
    "\n",
    "QDA42 = QuadraticDiscriminantAnalysis()\n",
    "QDA42.fit(X42_train, y42_train)\n",
    "\n",
    "pred42_train = QDA42.predict(X42_train)\n",
    "pred42_test = QDA42.predict(X42_test)\n",
    "\n",
    "print(\"Training accuracy:\", sum(pred42_train == y42_train)/y42_train.shape[0])\n",
    "print(\"Training precision score:\", precision_score(y42_train, pred42_train))\n",
    "print(\"Training recall score:\", recall_score(y42_train, pred42_train))\n",
    "print(\"Training F1 score:\", f1_score(y42_train, pred42_train))\n",
    "print(\"Training ROC AUC score:\", roc_auc_score(y42_train, pred42_train))\n",
    "\n",
    "print(\"Test accuracy:\", sum(pred42_test == y42_test)/y42_test.shape[0])\n",
    "print(\"Test precision score:\", precision_score(y42_test, pred42_test))\n",
    "print(\"Test recall score:\", recall_score(y42_test, pred42_test))\n",
    "print(\"Test F1 score:\", f1_score(y42_test, pred42_test))\n",
    "print(\"Test ROC AUC score:\", roc_auc_score(y42_test, pred42_test))"
   ]
  },
  {
   "cell_type": "code",
   "execution_count": 87,
   "metadata": {},
   "outputs": [
    {
     "name": "stdout",
     "output_type": "stream",
     "text": [
      "0.5562597777688636\n"
     ]
    },
    {
     "data": {
      "text/plain": [
       "0.8856485752871488"
      ]
     },
     "execution_count": 87,
     "metadata": {},
     "output_type": "execute_result"
    }
   ],
   "source": [
    "print(np.sum(y42_train)/np.shape(y42_train)[0])\n",
    "np.sum(pred42_train)/np.shape(pred42_train)[0]"
   ]
  },
  {
   "cell_type": "code",
   "execution_count": 88,
   "metadata": {},
   "outputs": [
    {
     "name": "stdout",
     "output_type": "stream",
     "text": [
      "0.5529528562612359\n"
     ]
    },
    {
     "data": {
      "text/plain": [
       "0.8871716439936677"
      ]
     },
     "execution_count": 88,
     "metadata": {},
     "output_type": "execute_result"
    }
   ],
   "source": [
    "print(np.sum(y42_test)/np.shape(y42_test)[0])\n",
    "np.sum(pred42_test)/np.shape(pred42_test)[0]"
   ]
  },
  {
   "cell_type": "code",
   "execution_count": 109,
   "metadata": {},
   "outputs": [
    {
     "name": "stdout",
     "output_type": "stream",
     "text": [
      "Training precision score: 0.48275257249766135\n",
      "Training recall score: 0.12440486952329295\n",
      "Test precision score: 0.47015457788347204\n",
      "Test recall score: 0.11866034451713582\n"
     ]
    }
   ],
   "source": [
    "print(\"Training precision score:\", precision_score(neg(y42_train), neg(pred42_train)))\n",
    "print(\"Training recall score:\", recall_score(neg(y42_train), neg(pred42_train)))\n",
    "print(\"Test precision score:\", precision_score(neg(y42_test), neg(pred42_test)))\n",
    "print(\"Test recall score:\", recall_score(neg(y42_test), neg(pred42_test)))"
   ]
  },
  {
   "cell_type": "markdown",
   "metadata": {},
   "source": [
    "## 2% Threshold\n",
    "\n",
    "Now, let's try 2% threshold.\n",
    "\n",
    "### Naive Bayes -- All Tweets"
   ]
  },
  {
   "cell_type": "code",
   "execution_count": 89,
   "metadata": {},
   "outputs": [
    {
     "name": "stdout",
     "output_type": "stream",
     "text": [
      "Training accuracy: 0.7704814764957044\n",
      "Training precision score: 0.2594292556375973\n",
      "Training recall score: 0.00995573526934093\n",
      "Training F1 score: 0.01917559684045166\n",
      "Training ROC AUC score: 0.5008439514759708\n",
      "Test accuracy: 0.7654445418585225\n",
      "Test precision score: 0.23778337531486146\n",
      "Test recall score: 0.014330823415108088\n",
      "Test F1 score: 0.02703244466080582\n",
      "Test ROC AUC score: 0.5004061797492977\n"
     ]
    }
   ],
   "source": [
    "X51_train = X_train\n",
    "X51_test = X_test\n",
    "y51_train = np.array(df_train[\"return\"] >= 2.0)\n",
    "y51_test = np.array(df_test[\"return\"] >= 2.0)\n",
    "\n",
    "NB51 = GaussianNB()\n",
    "NB51.fit(X51_train, y51_train)\n",
    "\n",
    "pred51_train = NB51.predict(X51_train)\n",
    "pred51_test = NB51.predict(X51_test)\n",
    "\n",
    "print(\"Training accuracy:\", sum(pred51_train == y51_train)/y51_train.shape[0])\n",
    "print(\"Training precision score:\", precision_score(y51_train, pred51_train))\n",
    "print(\"Training recall score:\", recall_score(y51_train, pred51_train))\n",
    "print(\"Training F1 score:\", f1_score(y51_train, pred51_train))\n",
    "print(\"Training ROC AUC score:\", roc_auc_score(y51_train, pred51_train))\n",
    "\n",
    "print(\"Test accuracy:\", sum(pred51_test == y51_test)/y51_test.shape[0])\n",
    "print(\"Test precision score:\", precision_score(y51_test, pred51_test))\n",
    "print(\"Test recall score:\", recall_score(y51_test, pred51_test))\n",
    "print(\"Test F1 score:\", f1_score(y51_test, pred51_test))\n",
    "print(\"Test ROC AUC score:\", roc_auc_score(y51_test, pred51_test))"
   ]
  },
  {
   "cell_type": "code",
   "execution_count": 90,
   "metadata": {
    "scrolled": true
   },
   "outputs": [
    {
     "name": "stdout",
     "output_type": "stream",
     "text": [
      "0.22535750898302803\n"
     ]
    },
    {
     "data": {
      "text/plain": [
       "0.008648213922053895"
      ]
     },
     "execution_count": 90,
     "metadata": {},
     "output_type": "execute_result"
    }
   ],
   "source": [
    "print(np.sum(y51_train)/np.shape(y51_train)[0])\n",
    "np.sum(pred51_train)/np.shape(pred51_train)[0]"
   ]
  },
  {
   "cell_type": "code",
   "execution_count": 91,
   "metadata": {},
   "outputs": [
    {
     "name": "stdout",
     "output_type": "stream",
     "text": [
      "0.22736906052175593\n"
     ]
    },
    {
     "data": {
      "text/plain": [
       "0.013703169332514135"
      ]
     },
     "execution_count": 91,
     "metadata": {},
     "output_type": "execute_result"
    }
   ],
   "source": [
    "print(np.sum(y51_test)/np.shape(y51_test)[0])\n",
    "np.sum(pred51_test)/np.shape(pred51_test)[0]"
   ]
  },
  {
   "cell_type": "markdown",
   "metadata": {},
   "source": [
    "### Naive Bayes -- Popular Tweets"
   ]
  },
  {
   "cell_type": "code",
   "execution_count": 92,
   "metadata": {},
   "outputs": [
    {
     "name": "stdout",
     "output_type": "stream",
     "text": [
      "Training accuracy: 0.7609277013384679\n",
      "Training precision score: 0.2935560859188544\n",
      "Training recall score: 0.014030284883223543\n",
      "Training F1 score: 0.026780611272895518\n",
      "Training ROC AUC score: 0.5018451528339894\n",
      "Test accuracy: 0.7576001502589284\n",
      "Test precision score: 0.2693498452012384\n",
      "Test recall score: 0.019917582417582416\n",
      "Test F1 score: 0.037092304412705175\n",
      "Test ROC AUC score: 0.50168766654612\n"
     ]
    }
   ],
   "source": [
    "X61_train = X11_train\n",
    "X61_test = X11_test\n",
    "y61_train = np.array(df_train.loc[df_train[\"retweet_count\"] >= 20][\"return\"] >= 2.0)\n",
    "y61_test = np.array(df_test.loc[df_test[\"retweet_count\"] >= 20][\"return\"] >= 2.0)\n",
    "\n",
    "NB61 = GaussianNB()\n",
    "NB61.fit(X61_train, y61_train)\n",
    "\n",
    "pred61_train = NB61.predict(X61_train)\n",
    "pred61_test = NB61.predict(X61_test)\n",
    "\n",
    "print(\"Training accuracy:\", sum(pred61_train == y61_train)/y61_train.shape[0])\n",
    "print(\"Training precision score:\", precision_score(y61_train, pred61_train))\n",
    "print(\"Training recall score:\", recall_score(y61_train, pred61_train))\n",
    "print(\"Training F1 score:\", f1_score(y61_train, pred61_train))\n",
    "print(\"Training ROC AUC score:\", roc_auc_score(y61_train, pred61_train))\n",
    "\n",
    "print(\"Test accuracy:\", sum(pred61_test == y61_test)/y61_test.shape[0])\n",
    "print(\"Test precision score:\", precision_score(y61_test, pred61_test))\n",
    "print(\"Test recall score:\", recall_score(y61_test, pred61_test))\n",
    "print(\"Test F1 score:\", f1_score(y61_test, pred61_test))\n",
    "print(\"Test ROC AUC score:\", roc_auc_score(y61_test, pred61_test))"
   ]
  },
  {
   "cell_type": "code",
   "execution_count": 93,
   "metadata": {},
   "outputs": [
    {
     "name": "stdout",
     "output_type": "stream",
     "text": [
      "0.23444582614625536\n"
     ]
    },
    {
     "data": {
      "text/plain": [
       "0.011205155976306043"
      ]
     },
     "execution_count": 93,
     "metadata": {},
     "output_type": "execute_result"
    }
   ],
   "source": [
    "print(np.sum(y61_train)/np.shape(y61_train)[0])\n",
    "np.sum(pred61_train)/np.shape(pred61_train)[0]"
   ]
  },
  {
   "cell_type": "code",
   "execution_count": 94,
   "metadata": {},
   "outputs": [
    {
     "name": "stdout",
     "output_type": "stream",
     "text": [
      "0.23440392819769781\n"
     ]
    },
    {
     "data": {
      "text/plain": [
       "0.017333440661139284"
      ]
     },
     "execution_count": 94,
     "metadata": {},
     "output_type": "execute_result"
    }
   ],
   "source": [
    "print(np.sum(y61_test)/np.shape(y61_test)[0])\n",
    "np.sum(pred61_test)/np.shape(pred61_test)[0]"
   ]
  },
  {
   "cell_type": "markdown",
   "metadata": {},
   "source": [
    "### QDA -- All Tweets"
   ]
  },
  {
   "cell_type": "code",
   "execution_count": 95,
   "metadata": {},
   "outputs": [
    {
     "name": "stdout",
     "output_type": "stream",
     "text": [
      "Training accuracy: 0.7691974471287102\n",
      "Training precision score: 0.27816059625931655\n",
      "Training recall score: 0.0151480341251972\n",
      "Training F1 score: 0.028731416453020932\n",
      "Training ROC AUC score: 0.501856045722635\n",
      "Test accuracy: 0.7672532221432171\n",
      "Test precision score: 0.2870420995079278\n",
      "Test recall score: 0.015940004857906243\n",
      "Test F1 score: 0.03020279016251978\n",
      "Test ROC AUC score: 0.5021444647729278\n"
     ]
    }
   ],
   "source": [
    "X52_train = X_train2\n",
    "X52_test = X_test2\n",
    "y52_train = np.array(df_train[\"return\"] >= 2.0)\n",
    "y52_test = np.array(df_test[\"return\"] >= 2.0)\n",
    "\n",
    "QDA52 = QuadraticDiscriminantAnalysis()\n",
    "QDA52.fit(X52_train, y52_train)\n",
    "\n",
    "pred52_train = QDA52.predict(X52_train)\n",
    "pred52_test = QDA52.predict(X52_test)\n",
    "\n",
    "print(\"Training accuracy:\", sum(pred52_train == y52_train)/y52_train.shape[0])\n",
    "print(\"Training precision score:\", precision_score(y52_train, pred52_train))\n",
    "print(\"Training recall score:\", recall_score(y52_train, pred52_train))\n",
    "print(\"Training F1 score:\", f1_score(y52_train, pred52_train))\n",
    "print(\"Training ROC AUC score:\", roc_auc_score(y52_train, pred52_train))\n",
    "\n",
    "print(\"Test accuracy:\", sum(pred52_test == y52_test)/y52_test.shape[0])\n",
    "print(\"Test precision score:\", precision_score(y52_test, pred52_test))\n",
    "print(\"Test recall score:\", recall_score(y52_test, pred52_test))\n",
    "print(\"Test F1 score:\", f1_score(y52_test, pred52_test))\n",
    "print(\"Test ROC AUC score:\", roc_auc_score(y52_test, pred52_test))"
   ]
  },
  {
   "cell_type": "code",
   "execution_count": 96,
   "metadata": {},
   "outputs": [
    {
     "name": "stdout",
     "output_type": "stream",
     "text": [
      "0.22535750898302803\n"
     ]
    },
    {
     "data": {
      "text/plain": [
       "0.012272490361150518"
      ]
     },
     "execution_count": 96,
     "metadata": {},
     "output_type": "execute_result"
    }
   ],
   "source": [
    "print(np.sum(y52_train)/np.shape(y52_train)[0])\n",
    "np.sum(pred52_train)/np.shape(pred52_train)[0]"
   ]
  },
  {
   "cell_type": "code",
   "execution_count": 97,
   "metadata": {},
   "outputs": [
    {
     "name": "stdout",
     "output_type": "stream",
     "text": [
      "0.22736906052175593\n"
     ]
    },
    {
     "data": {
      "text/plain": [
       "0.012626245193535694"
      ]
     },
     "execution_count": 97,
     "metadata": {},
     "output_type": "execute_result"
    }
   ],
   "source": [
    "print(np.sum(y52_test)/np.shape(y52_test)[0])\n",
    "np.sum(pred52_test)/np.shape(pred52_test)[0]"
   ]
  },
  {
   "cell_type": "markdown",
   "metadata": {},
   "source": [
    "### QDA -- Popular Tweets"
   ]
  },
  {
   "cell_type": "code",
   "execution_count": 98,
   "metadata": {},
   "outputs": [
    {
     "name": "stdout",
     "output_type": "stream",
     "text": [
      "Training accuracy: 0.7483386149999331\n",
      "Training precision score: 0.2791216332132441\n",
      "Training recall score: 0.04639689736789574\n",
      "Training F1 score: 0.07956768388106417\n",
      "Training ROC AUC score: 0.5048502254312209\n",
      "Test accuracy: 0.7472430169846253\n",
      "Test precision score: 0.2726063829787234\n",
      "Test recall score: 0.04693223443223443\n",
      "Test F1 score: 0.080078125\n",
      "Test ROC AUC score: 0.5042953325106884\n"
     ]
    }
   ],
   "source": [
    "X62_train = X12_train\n",
    "X62_test = X12_test\n",
    "y62_train = y61_train\n",
    "y62_test = y61_test\n",
    "\n",
    "QDA62 = QuadraticDiscriminantAnalysis()\n",
    "QDA62.fit(X62_train, y62_train)\n",
    "\n",
    "pred62_train = QDA62.predict(X62_train)\n",
    "pred62_test = QDA62.predict(X62_test)\n",
    "\n",
    "print(\"Training accuracy:\", sum(pred62_train == y62_train)/y62_train.shape[0])\n",
    "print(\"Training precision score:\", precision_score(y62_train, pred62_train))\n",
    "print(\"Training recall score:\", recall_score(y62_train, pred62_train))\n",
    "print(\"Training F1 score:\", f1_score(y62_train, pred62_train))\n",
    "print(\"Training ROC AUC score:\", roc_auc_score(y62_train, pred62_train))\n",
    "\n",
    "print(\"Test accuracy:\", sum(pred62_test == y62_test)/y62_test.shape[0])\n",
    "print(\"Test precision score:\", precision_score(y62_test, pred62_test))\n",
    "print(\"Test recall score:\", recall_score(y62_test, pred62_test))\n",
    "print(\"Test F1 score:\", f1_score(y62_test, pred62_test))\n",
    "print(\"Test ROC AUC score:\", roc_auc_score(y62_test, pred62_test))"
   ]
  },
  {
   "cell_type": "code",
   "execution_count": 99,
   "metadata": {},
   "outputs": [
    {
     "name": "stdout",
     "output_type": "stream",
     "text": [
      "0.23444582614625536\n"
     ]
    },
    {
     "data": {
      "text/plain": [
       "0.03897067672189017"
      ]
     },
     "execution_count": 99,
     "metadata": {},
     "output_type": "execute_result"
    }
   ],
   "source": [
    "print(np.sum(y62_train)/np.shape(y62_train)[0])\n",
    "np.sum(pred62_train)/np.shape(pred62_train)[0]"
   ]
  },
  {
   "cell_type": "code",
   "execution_count": 100,
   "metadata": {},
   "outputs": [
    {
     "name": "stdout",
     "output_type": "stream",
     "text": [
      "0.23440392819769781\n"
     ]
    },
    {
     "data": {
      "text/plain": [
       "0.04035525503769889"
      ]
     },
     "execution_count": 100,
     "metadata": {},
     "output_type": "execute_result"
    }
   ],
   "source": [
    "print(np.sum(y62_test)/np.shape(y62_test)[0])\n",
    "np.sum(pred62_test)/np.shape(pred62_test)[0]"
   ]
  }
 ],
 "metadata": {
  "kernelspec": {
   "display_name": "Python 3",
   "language": "python",
   "name": "python3"
  },
  "language_info": {
   "codemirror_mode": {
    "name": "ipython",
    "version": 3
   },
   "file_extension": ".py",
   "mimetype": "text/x-python",
   "name": "python",
   "nbconvert_exporter": "python",
   "pygments_lexer": "ipython3",
   "version": "3.8.5"
  }
 },
 "nbformat": 4,
 "nbformat_minor": 4
}
