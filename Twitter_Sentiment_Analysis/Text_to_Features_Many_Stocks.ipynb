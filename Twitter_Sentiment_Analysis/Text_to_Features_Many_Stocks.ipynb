{
 "cells": [
  {
   "cell_type": "markdown",
   "metadata": {},
   "source": [
    "In this file, we preprocess the raw stock data for all companies. In particular, we extract the word counts and Vader scores, then we remove the entries without non-neutral sentiments, and we finally remove the text column from the tables. The preprocessed data will be saved in the csv files called `df_CompanyName_features_added.csv`."
   ]
  },
  {
   "cell_type": "code",
   "execution_count": 1,
   "metadata": {},
   "outputs": [],
   "source": [
    "raw_tweet_path = \"/Users/josht/Documents/Tweets_raw\""
   ]
  },
  {
   "cell_type": "markdown",
   "metadata": {},
   "source": [
    "Let us extract the list of all file names in the folder."
   ]
  },
  {
   "cell_type": "code",
   "execution_count": 2,
   "metadata": {},
   "outputs": [],
   "source": [
    "from os import listdir"
   ]
  },
  {
   "cell_type": "code",
   "execution_count": 3,
   "metadata": {},
   "outputs": [],
   "source": [
    "filename_list = listdir(raw_tweet_path)"
   ]
  },
  {
   "cell_type": "code",
   "execution_count": 4,
   "metadata": {},
   "outputs": [],
   "source": [
    "filename_list.sort()"
   ]
  },
  {
   "cell_type": "markdown",
   "metadata": {},
   "source": [
    "Now, we import the preprocessing script and run it on all the files whose names are in `filename_list`."
   ]
  },
  {
   "cell_type": "code",
   "execution_count": 5,
   "metadata": {},
   "outputs": [],
   "source": [
    "import Text_to_Features_Script as script"
   ]
  },
  {
   "cell_type": "code",
   "execution_count": 19,
   "metadata": {},
   "outputs": [
    {
     "name": "stdout",
     "output_type": "stream",
     "text": [
      "Working on 407 . . . . . . . . . .\n",
      "Salesforce finished\n",
      "Working on 408 . . . . . . . . . .\n",
      "Schlumberger finished\n",
      "Working on 409 . . . . . . . . . .\n",
      "SeagateTechnology finished\n",
      "Working on 410 . . . . . . . . . .\n",
      "SealedAir finished\n",
      "Working on 411 . . . . . . . . . .\n",
      "SempraEnergy finished\n",
      "Working on 412 . . . . . . . . . .\n",
      "ServiceNow finished\n",
      "Working on 413 . . . . . . . . . .\n",
      "Sherwin-Williams finished\n",
      "Working on 414 . . . . . . . . . .\n",
      "SimonPropertyGroup finished\n",
      "Working on 415 . . . . . . . . . .\n",
      "SkyworksSolutions finished\n",
      "Working on 416 . . . . . . . . . .\n",
      "Snap-on finished\n",
      "Working on 417 . . . . . . . . . .\n",
      "SouthernCompany finished\n",
      "Working on 418 . . . . . . . . . .\n",
      "SouthwestAirlines finished\n",
      "Working on 419 . . . . . . . . . .\n",
      "StanleyBlack_Decker finished\n",
      "Working on 420 . . . . . . . . . .\n",
      "Starbucks finished\n",
      "Working on 421 . . . . . . . . . .\n",
      "StateStreetCorporation finished\n",
      "Working on 422 . . . . . . . . . .\n",
      "Steris finished\n",
      "Working on 423 . . . . . . . . . .\n",
      "StrykerCorporation finished\n",
      "Working on 424 . . . . . . . . . .\n",
      "SynchronyFinancial finished\n",
      "Working on 425 . . . . . . . . . .\n",
      "Synopsys finished\n",
      "Working on 426 . . . . . . . . . .\n",
      "Sysco finished\n",
      "Working on 427 . . . . . . . . . .\n",
      "T-MobileUS finished\n",
      "Working on 428 . . . . . . . . . .\n",
      "T.RowePrice finished\n",
      "Working on 429 . . . . . . . . . .\n",
      "TEConnectivity finished\n",
      "Working on 430 . . . . . . . . . .\n",
      "TJXCompanies finished\n",
      "Working on 431 . . . . . . . . . .\n",
      "Take-TwoInteractive finished\n",
      "Working on 432 . . . . . . . . . .\n",
      "Tapestry finished\n",
      "Working on 433 . . . . . . . . . .\n",
      "TargetCorporation finished\n",
      "Working on 434 . . . . . . . . . .\n",
      "TeledyneTechnologies finished\n",
      "Working on 435 . . . . . . . . . .\n",
      "Teleflex finished\n",
      "Working on 436 . . . . . . . . . .\n",
      "Teradyne finished\n",
      "Working on 437 . . . . . . . . . .\n",
      "Tesla finished\n",
      "Working on 438 . . . . . . . . . .\n",
      "TexasInstruments finished\n",
      "Working on 439 . . . . . . . . . .\n",
      "Textron finished\n",
      "Working on 440 . . . . . . . . . .\n",
      "TheCooperCompanies finished\n",
      "Working on 441 . . . . . . . . . .\n",
      "TheHartford finished\n",
      "Working on 442 . . . . . . . . . .\n",
      "TheHersheyCompany finished\n",
      "Working on 443 . . . . . . . . . .\n",
      "TheMosaicCompany finished\n",
      "Working on 444 . . . . . . . . . .\n",
      "TheTravelersCompanies finished\n",
      "Working on 445 . . . . . . . . . .\n",
      "TheWaltDisneyCompany finished\n",
      "Working on 446 . . . . . . . . . .\n",
      "ThermoFisherScientific finished\n",
      "Working on 447 . . . . . . . . . .\n",
      "TractorSupplyCompany finished\n",
      "Working on 448 . . . . . . . . . .\n",
      "TraneTechnologies finished\n",
      "Working on 449 . . . . . . . . . .\n",
      "TransDigmGroup finished\n",
      "Working on 450 . . . . . . . . . .\n",
      "Trimble finished\n",
      "Working on 451 . . . . . . . . . .\n",
      "TruistFinancial finished\n",
      "Working on 452 . . . . . . . . . .\n",
      "Twitter finished\n",
      "Working on 453 . . . . . . . . . .\n",
      "TylerTechnologies finished\n",
      "Working on 454 . . . . . . . . . .\n",
      "TysonFoods finished\n",
      "Working on 455 . . . . . . . . . .\n",
      "U.S.Bancorp finished\n",
      "Working on 456 . . . . . . . . . .\n",
      "UDR finished\n",
      "Working on 457 . . . . . . . . . .\n",
      "UltaBeauty finished\n",
      "Working on 458 . . . . . . . . . .\n",
      "UnderArmour(ClassA) finished\n",
      "Working on 459 . . . . . . . . . .\n",
      "UnderArmour(ClassC) finished\n",
      "Working on 460 . . . . . . . . . .\n",
      "UnionPacific finished\n",
      "Working on 461 . . . . . . . . . .\n",
      "UnitedAirlines finished\n",
      "Working on 462 . . . . . . . . . .\n",
      "UnitedHealthGroup finished\n",
      "Working on 463 . . . . . . . . . .\n",
      "UnitedParcelService finished\n",
      "Working on 464 . . . . . . . . . .\n",
      "UnitedRentals finished\n",
      "Working on 465 . . . . . . . . . .\n",
      "UniversalHealthServices finished\n",
      "Working on 466 . . . . . . . . . .\n",
      "VFCorporation finished\n",
      "Working on 467 . . . . . . . . . .\n",
      "ValeroEnergy finished\n",
      "Working on 468 . . . . . . . . . .\n",
      "Ventas finished\n",
      "Working on 469 . . . . . . . . . .\n",
      "Verisign finished\n",
      "Working on 470 . . . . . . . . . .\n",
      "VeriskAnalytics finished\n",
      "Working on 471 . . . . . . . . . .\n",
      "VerizonCommunications finished\n",
      "Working on 472 . . . . . . . . . .\n",
      "VertexPharmaceuticals finished\n",
      "Working on 473 . . . . . . . . . .\n",
      "ViacomCBS finished\n",
      "Working on 474 . . . . . . . . . .\n",
      "Viatris finished\n",
      "Working on 475 . . . . . . . . . .\n",
      "Visa finished\n",
      "Working on 476 . . . . . . . . . .\n",
      "VornadoRealtyTrust finished\n",
      "Working on 477 . . . . . . . . . .\n",
      "VulcanMaterials finished\n",
      "Working on 478 . . . . . . . . . .\n",
      "W.R.BerkleyCorporation finished\n",
      "Working on 479 . . . . . . . . . .\n",
      "W.W.Grainger finished\n",
      "Working on 480 . . . . . . . . . .\n",
      "WECEnergyGroup finished\n",
      "Working on 481 . . . . . . . . . .\n",
      "Wabtec finished\n",
      "Working on 482 . . . . . . . . . .\n",
      "WalgreensBootsAlliance finished\n",
      "Working on 483 . . . . . . . . . .\n",
      "Walmart finished\n",
      "Working on 484 . . . . . . . . . .\n",
      "WasteManagement finished\n",
      "Working on 485 . . . . . . . . . .\n",
      "WatersCorporation finished\n",
      "Working on 486 . . . . . . . . . .\n",
      "WellsFargo finished\n",
      "Working on 487 . . . . . . . . . .\n",
      "Welltower finished\n",
      "Working on 488 . . . . . . . . . .\n",
      "WestPharmaceuticalServices finished\n",
      "Working on 489 . . . . . . . . . .\n",
      "WestRock finished\n",
      "Working on 490 . . . . . . . . . .\n",
      "WesternDigital finished\n",
      "Working on 491 . . . . . . . . . .\n",
      "WesternUnion finished\n",
      "Working on 492 . . . . . . . . . .\n",
      "Weyerhaeuser finished\n",
      "Working on 493 . . . . . . . . . .\n",
      "WhirlpoolCorporation finished\n",
      "Working on 494 . . . . . . . . . .\n",
      "WilliamsCompanies finished\n",
      "Working on 495 . . . . . . . . . .\n",
      "WillisTowersWatson finished\n",
      "Working on 496 . . . . . . . . . .\n",
      "WynnResorts finished\n",
      "Working on 497 . . . . . . . . . .\n",
      "XcelEnergy finished\n",
      "Working on 498 . . . . . . . . . .\n",
      "Xilinx finished\n",
      "Working on 499 . . . . . . . . . .\n",
      "Xylem finished\n",
      "Working on 500 . . . . . . . . . .\n",
      "Yum!Brands finished\n",
      "Working on 501 . . . . . . . . . .\n",
      "ZebraTechnologies finished\n",
      "Working on 502 . . . . . . . . . .\n",
      "ZimmerBiomet finished\n",
      "Working on 503 . . . . . . . . . .\n",
      "ZionsBancorp finished\n",
      "Working on 504 . . . . . . . . . .\n",
      "Zoetis finished\n",
      "Working on 505 . . . . . . . . . .\n",
      "eBay finished\n"
     ]
    }
   ],
   "source": [
    "# This line is to preprocess all the files\n",
    "i = 407\n",
    "for file in filename_list[406:]:\n",
    "    print(\"Working on\", i, \". . . . . . . . . .\")\n",
    "    script.main(file)\n",
    "    i += 1"
   ]
  },
  {
   "cell_type": "code",
   "execution_count": 18,
   "metadata": {},
   "outputs": [
    {
     "data": {
      "text/plain": [
       "'df_Salesforce.csv'"
      ]
     },
     "execution_count": 18,
     "metadata": {},
     "output_type": "execute_result"
    }
   ],
   "source": [
    "filename_list[406]"
   ]
  },
  {
   "cell_type": "code",
   "execution_count": null,
   "metadata": {},
   "outputs": [],
   "source": []
  }
 ],
 "metadata": {
  "kernelspec": {
   "display_name": "Python 3",
   "language": "python",
   "name": "python3"
  },
  "language_info": {
   "codemirror_mode": {
    "name": "ipython",
    "version": 3
   },
   "file_extension": ".py",
   "mimetype": "text/x-python",
   "name": "python",
   "nbconvert_exporter": "python",
   "pygments_lexer": "ipython3",
   "version": "3.8.5"
  }
 },
 "nbformat": 4,
 "nbformat_minor": 4
}
