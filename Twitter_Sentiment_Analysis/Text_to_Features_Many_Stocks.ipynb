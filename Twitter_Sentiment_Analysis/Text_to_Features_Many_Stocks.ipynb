{
 "cells": [
  {
   "cell_type": "markdown",
   "metadata": {},
   "source": [
    "In this file, we preprocess the raw stock data for all companies. In particular, we extract the word counts and Vader scores, then we remove the entries without non-neutral sentiments, and we finally remove the text column from the tables. The preprocessed data will be saved in the csv files called `df_CompanyName_features_added.csv`."
   ]
  },
  {
   "cell_type": "code",
   "execution_count": 1,
   "metadata": {},
   "outputs": [],
   "source": [
    "raw_tweet_path = \"/Users/josht/Documents/Tweets_raw\""
   ]
  },
  {
   "cell_type": "markdown",
   "metadata": {},
   "source": [
    "Let us extract the list of all file names in the folder."
   ]
  },
  {
   "cell_type": "code",
   "execution_count": 2,
   "metadata": {},
   "outputs": [],
   "source": [
    "from os import listdir"
   ]
  },
  {
   "cell_type": "code",
   "execution_count": 3,
   "metadata": {},
   "outputs": [],
   "source": [
    "filename_list = listdir(raw_tweet_path)"
   ]
  },
  {
   "cell_type": "code",
   "execution_count": 4,
   "metadata": {},
   "outputs": [],
   "source": [
    "filename_list.sort()"
   ]
  },
  {
   "cell_type": "markdown",
   "metadata": {},
   "source": [
    "Now, we import the preprocessing script and run it on all the files whose names are in `filename_list`."
   ]
  },
  {
   "cell_type": "code",
   "execution_count": 5,
   "metadata": {},
   "outputs": [],
   "source": [
    "import Text_to_Features_Script as script"
   ]
  },
  {
   "cell_type": "code",
   "execution_count": null,
   "metadata": {},
   "outputs": [
    {
     "name": "stdout",
     "output_type": "stream",
     "text": [
      "Working on 407 . . . . . . . . . .\n",
      "Salesforce finished\n",
      "Working on 408 . . . . . . . . . .\n",
      "Schlumberger finished\n",
      "Working on 409 . . . . . . . . . .\n",
      "SeagateTechnology finished\n",
      "Working on 410 . . . . . . . . . .\n",
      "SealedAir finished\n",
      "Working on 411 . . . . . . . . . .\n",
      "SempraEnergy finished\n",
      "Working on 412 . . . . . . . . . .\n",
      "ServiceNow finished\n",
      "Working on 413 . . . . . . . . . .\n",
      "Sherwin-Williams finished\n",
      "Working on 414 . . . . . . . . . .\n",
      "SimonPropertyGroup finished\n",
      "Working on 415 . . . . . . . . . .\n",
      "SkyworksSolutions finished\n",
      "Working on 416 . . . . . . . . . .\n",
      "Snap-on finished\n",
      "Working on 417 . . . . . . . . . .\n",
      "SouthernCompany finished\n",
      "Working on 418 . . . . . . . . . .\n",
      "SouthwestAirlines finished\n",
      "Working on 419 . . . . . . . . . .\n",
      "StanleyBlack_Decker finished\n",
      "Working on 420 . . . . . . . . . .\n",
      "Starbucks finished\n",
      "Working on 421 . . . . . . . . . .\n",
      "StateStreetCorporation finished\n",
      "Working on 422 . . . . . . . . . .\n",
      "Steris finished\n",
      "Working on 423 . . . . . . . . . .\n",
      "StrykerCorporation finished\n",
      "Working on 424 . . . . . . . . . .\n",
      "SynchronyFinancial finished\n",
      "Working on 425 . . . . . . . . . .\n",
      "Synopsys finished\n",
      "Working on 426 . . . . . . . . . .\n",
      "Sysco finished\n",
      "Working on 427 . . . . . . . . . .\n",
      "T-MobileUS finished\n",
      "Working on 428 . . . . . . . . . .\n",
      "T.RowePrice finished\n",
      "Working on 429 . . . . . . . . . .\n",
      "TEConnectivity finished\n",
      "Working on 430 . . . . . . . . . .\n",
      "TJXCompanies finished\n",
      "Working on 431 . . . . . . . . . .\n",
      "Take-TwoInteractive finished\n",
      "Working on 432 . . . . . . . . . .\n",
      "Tapestry finished\n",
      "Working on 433 . . . . . . . . . .\n",
      "TargetCorporation finished\n",
      "Working on 434 . . . . . . . . . .\n",
      "TeledyneTechnologies finished\n",
      "Working on 435 . . . . . . . . . .\n",
      "Teleflex finished\n",
      "Working on 436 . . . . . . . . . .\n",
      "Teradyne finished\n",
      "Working on 437 . . . . . . . . . .\n",
      "Tesla finished\n",
      "Working on 438 . . . . . . . . . .\n"
     ]
    }
   ],
   "source": [
    "# This line is to preprocess all the files\n",
    "i = 407\n",
    "for file in filename_list[406:]:\n",
    "    print(\"Working on\", i, \". . . . . . . . . .\")\n",
    "    script.main(file)\n",
    "    i += 1"
   ]
  },
  {
   "cell_type": "code",
   "execution_count": 18,
   "metadata": {},
   "outputs": [
    {
     "data": {
      "text/plain": [
       "'df_Salesforce.csv'"
      ]
     },
     "execution_count": 18,
     "metadata": {},
     "output_type": "execute_result"
    }
   ],
   "source": [
    "filename_list[406]"
   ]
  },
  {
   "cell_type": "code",
   "execution_count": null,
   "metadata": {},
   "outputs": [],
   "source": []
  }
 ],
 "metadata": {
  "kernelspec": {
   "display_name": "Python 3",
   "language": "python",
   "name": "python3"
  },
  "language_info": {
   "codemirror_mode": {
    "name": "ipython",
    "version": 3
   },
   "file_extension": ".py",
   "mimetype": "text/x-python",
   "name": "python",
   "nbconvert_exporter": "python",
   "pygments_lexer": "ipython3",
   "version": "3.8.5"
  }
 },
 "nbformat": 4,
 "nbformat_minor": 4
}
