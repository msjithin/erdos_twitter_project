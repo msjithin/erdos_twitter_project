{
 "cells": [
  {
   "cell_type": "markdown",
   "metadata": {},
   "source": [
    "## All Recent Tweets mentioning Company Name and/or Stock Hash/Cashtags\n",
    "\n",
    "In this file, we preprocess the raw stock data for all companies. In particular, we extract the word counts and Vader scores, then we remove the entries without non-neutral sentiments, and we finally remove the text column from the tables. The preprocessed data will be saved in the csv files called `df_CompanyName_features_added.csv`."
   ]
  },
  {
   "cell_type": "code",
   "execution_count": 1,
   "metadata": {},
   "outputs": [],
   "source": [
    "raw_tweet_path = \"/Users/josht/Documents/Tweets_raw\""
   ]
  },
  {
   "cell_type": "markdown",
   "metadata": {},
   "source": [
    "Let us extract the list of all file names in the folder."
   ]
  },
  {
   "cell_type": "code",
   "execution_count": 2,
   "metadata": {},
   "outputs": [],
   "source": [
    "from os import listdir"
   ]
  },
  {
   "cell_type": "code",
   "execution_count": 3,
   "metadata": {},
   "outputs": [],
   "source": [
    "filename_list = listdir(raw_tweet_path)"
   ]
  },
  {
   "cell_type": "code",
   "execution_count": 4,
   "metadata": {},
   "outputs": [],
   "source": [
    "filename_list.sort()"
   ]
  },
  {
   "cell_type": "markdown",
   "metadata": {},
   "source": [
    "Now, we import the preprocessing script and run it on all the files whose names are in `filename_list`."
   ]
  },
  {
   "cell_type": "code",
   "execution_count": 5,
   "metadata": {},
   "outputs": [],
   "source": [
    "import Text_to_Features_Script as script"
   ]
  },
  {
   "cell_type": "code",
   "execution_count": 19,
   "metadata": {},
   "outputs": [
    {
     "name": "stdout",
     "output_type": "stream",
     "text": [
      "Working on 407 . . . . . . . . . .\n",
      "Salesforce finished\n",
      "Working on 408 . . . . . . . . . .\n",
      "Schlumberger finished\n",
      "Working on 409 . . . . . . . . . .\n",
      "SeagateTechnology finished\n",
      "Working on 410 . . . . . . . . . .\n",
      "SealedAir finished\n",
      "Working on 411 . . . . . . . . . .\n",
      "SempraEnergy finished\n",
      "Working on 412 . . . . . . . . . .\n",
      "ServiceNow finished\n",
      "Working on 413 . . . . . . . . . .\n",
      "Sherwin-Williams finished\n",
      "Working on 414 . . . . . . . . . .\n",
      "SimonPropertyGroup finished\n",
      "Working on 415 . . . . . . . . . .\n",
      "SkyworksSolutions finished\n",
      "Working on 416 . . . . . . . . . .\n",
      "Snap-on finished\n",
      "Working on 417 . . . . . . . . . .\n",
      "SouthernCompany finished\n",
      "Working on 418 . . . . . . . . . .\n",
      "SouthwestAirlines finished\n",
      "Working on 419 . . . . . . . . . .\n",
      "StanleyBlack_Decker finished\n",
      "Working on 420 . . . . . . . . . .\n",
      "Starbucks finished\n",
      "Working on 421 . . . . . . . . . .\n",
      "StateStreetCorporation finished\n",
      "Working on 422 . . . . . . . . . .\n",
      "Steris finished\n",
      "Working on 423 . . . . . . . . . .\n",
      "StrykerCorporation finished\n",
      "Working on 424 . . . . . . . . . .\n",
      "SynchronyFinancial finished\n",
      "Working on 425 . . . . . . . . . .\n",
      "Synopsys finished\n",
      "Working on 426 . . . . . . . . . .\n",
      "Sysco finished\n",
      "Working on 427 . . . . . . . . . .\n",
      "T-MobileUS finished\n",
      "Working on 428 . . . . . . . . . .\n",
      "T.RowePrice finished\n",
      "Working on 429 . . . . . . . . . .\n",
      "TEConnectivity finished\n",
      "Working on 430 . . . . . . . . . .\n",
      "TJXCompanies finished\n",
      "Working on 431 . . . . . . . . . .\n",
      "Take-TwoInteractive finished\n",
      "Working on 432 . . . . . . . . . .\n",
      "Tapestry finished\n",
      "Working on 433 . . . . . . . . . .\n",
      "TargetCorporation finished\n",
      "Working on 434 . . . . . . . . . .\n",
      "TeledyneTechnologies finished\n",
      "Working on 435 . . . . . . . . . .\n",
      "Teleflex finished\n",
      "Working on 436 . . . . . . . . . .\n",
      "Teradyne finished\n",
      "Working on 437 . . . . . . . . . .\n",
      "Tesla finished\n",
      "Working on 438 . . . . . . . . . .\n",
      "TexasInstruments finished\n",
      "Working on 439 . . . . . . . . . .\n",
      "Textron finished\n",
      "Working on 440 . . . . . . . . . .\n",
      "TheCooperCompanies finished\n",
      "Working on 441 . . . . . . . . . .\n",
      "TheHartford finished\n",
      "Working on 442 . . . . . . . . . .\n",
      "TheHersheyCompany finished\n",
      "Working on 443 . . . . . . . . . .\n",
      "TheMosaicCompany finished\n",
      "Working on 444 . . . . . . . . . .\n",
      "TheTravelersCompanies finished\n",
      "Working on 445 . . . . . . . . . .\n",
      "TheWaltDisneyCompany finished\n",
      "Working on 446 . . . . . . . . . .\n",
      "ThermoFisherScientific finished\n",
      "Working on 447 . . . . . . . . . .\n",
      "TractorSupplyCompany finished\n",
      "Working on 448 . . . . . . . . . .\n",
      "TraneTechnologies finished\n",
      "Working on 449 . . . . . . . . . .\n",
      "TransDigmGroup finished\n",
      "Working on 450 . . . . . . . . . .\n",
      "Trimble finished\n",
      "Working on 451 . . . . . . . . . .\n",
      "TruistFinancial finished\n",
      "Working on 452 . . . . . . . . . .\n",
      "Twitter finished\n",
      "Working on 453 . . . . . . . . . .\n",
      "TylerTechnologies finished\n",
      "Working on 454 . . . . . . . . . .\n",
      "TysonFoods finished\n",
      "Working on 455 . . . . . . . . . .\n",
      "U.S.Bancorp finished\n",
      "Working on 456 . . . . . . . . . .\n",
      "UDR finished\n",
      "Working on 457 . . . . . . . . . .\n",
      "UltaBeauty finished\n",
      "Working on 458 . . . . . . . . . .\n",
      "UnderArmour(ClassA) finished\n",
      "Working on 459 . . . . . . . . . .\n",
      "UnderArmour(ClassC) finished\n",
      "Working on 460 . . . . . . . . . .\n",
      "UnionPacific finished\n",
      "Working on 461 . . . . . . . . . .\n",
      "UnitedAirlines finished\n",
      "Working on 462 . . . . . . . . . .\n",
      "UnitedHealthGroup finished\n",
      "Working on 463 . . . . . . . . . .\n",
      "UnitedParcelService finished\n",
      "Working on 464 . . . . . . . . . .\n",
      "UnitedRentals finished\n",
      "Working on 465 . . . . . . . . . .\n",
      "UniversalHealthServices finished\n",
      "Working on 466 . . . . . . . . . .\n",
      "VFCorporation finished\n",
      "Working on 467 . . . . . . . . . .\n",
      "ValeroEnergy finished\n",
      "Working on 468 . . . . . . . . . .\n",
      "Ventas finished\n",
      "Working on 469 . . . . . . . . . .\n",
      "Verisign finished\n",
      "Working on 470 . . . . . . . . . .\n",
      "VeriskAnalytics finished\n",
      "Working on 471 . . . . . . . . . .\n",
      "VerizonCommunications finished\n",
      "Working on 472 . . . . . . . . . .\n",
      "VertexPharmaceuticals finished\n",
      "Working on 473 . . . . . . . . . .\n",
      "ViacomCBS finished\n",
      "Working on 474 . . . . . . . . . .\n",
      "Viatris finished\n",
      "Working on 475 . . . . . . . . . .\n",
      "Visa finished\n",
      "Working on 476 . . . . . . . . . .\n",
      "VornadoRealtyTrust finished\n",
      "Working on 477 . . . . . . . . . .\n",
      "VulcanMaterials finished\n",
      "Working on 478 . . . . . . . . . .\n",
      "W.R.BerkleyCorporation finished\n",
      "Working on 479 . . . . . . . . . .\n",
      "W.W.Grainger finished\n",
      "Working on 480 . . . . . . . . . .\n",
      "WECEnergyGroup finished\n",
      "Working on 481 . . . . . . . . . .\n",
      "Wabtec finished\n",
      "Working on 482 . . . . . . . . . .\n",
      "WalgreensBootsAlliance finished\n",
      "Working on 483 . . . . . . . . . .\n",
      "Walmart finished\n",
      "Working on 484 . . . . . . . . . .\n",
      "WasteManagement finished\n",
      "Working on 485 . . . . . . . . . .\n",
      "WatersCorporation finished\n",
      "Working on 486 . . . . . . . . . .\n",
      "WellsFargo finished\n",
      "Working on 487 . . . . . . . . . .\n",
      "Welltower finished\n",
      "Working on 488 . . . . . . . . . .\n",
      "WestPharmaceuticalServices finished\n",
      "Working on 489 . . . . . . . . . .\n",
      "WestRock finished\n",
      "Working on 490 . . . . . . . . . .\n",
      "WesternDigital finished\n",
      "Working on 491 . . . . . . . . . .\n",
      "WesternUnion finished\n",
      "Working on 492 . . . . . . . . . .\n",
      "Weyerhaeuser finished\n",
      "Working on 493 . . . . . . . . . .\n",
      "WhirlpoolCorporation finished\n",
      "Working on 494 . . . . . . . . . .\n",
      "WilliamsCompanies finished\n",
      "Working on 495 . . . . . . . . . .\n",
      "WillisTowersWatson finished\n",
      "Working on 496 . . . . . . . . . .\n",
      "WynnResorts finished\n",
      "Working on 497 . . . . . . . . . .\n",
      "XcelEnergy finished\n",
      "Working on 498 . . . . . . . . . .\n",
      "Xilinx finished\n",
      "Working on 499 . . . . . . . . . .\n",
      "Xylem finished\n",
      "Working on 500 . . . . . . . . . .\n",
      "Yum!Brands finished\n",
      "Working on 501 . . . . . . . . . .\n",
      "ZebraTechnologies finished\n",
      "Working on 502 . . . . . . . . . .\n",
      "ZimmerBiomet finished\n",
      "Working on 503 . . . . . . . . . .\n",
      "ZionsBancorp finished\n",
      "Working on 504 . . . . . . . . . .\n",
      "Zoetis finished\n",
      "Working on 505 . . . . . . . . . .\n",
      "eBay finished\n"
     ]
    }
   ],
   "source": [
    "# This line is to preprocess all the files\n",
    "i = 407\n",
    "for file in filename_list[406:]:\n",
    "    print(\"Working on\", i, \". . . . . . . . . .\")\n",
    "    script.main(file)\n",
    "    i += 1"
   ]
  },
  {
   "cell_type": "code",
   "execution_count": 18,
   "metadata": {},
   "outputs": [
    {
     "data": {
      "text/plain": [
       "'df_Salesforce.csv'"
      ]
     },
     "execution_count": 18,
     "metadata": {},
     "output_type": "execute_result"
    }
   ],
   "source": [
    "filename_list[406]"
   ]
  },
  {
   "cell_type": "markdown",
   "metadata": {},
   "source": [
    "## Recent Tweets from Prominent Users\n",
    "\n",
    "For Tweets from specific users, first re-define the directory."
   ]
  },
  {
   "cell_type": "code",
   "execution_count": 1,
   "metadata": {},
   "outputs": [],
   "source": [
    "raw_tweet_path2 = \"/Users/josht/Documents/User_based_tweets\""
   ]
  },
  {
   "cell_type": "markdown",
   "metadata": {},
   "source": [
    "Make the file list"
   ]
  },
  {
   "cell_type": "code",
   "execution_count": 2,
   "metadata": {},
   "outputs": [],
   "source": [
    "from os import listdir\n",
    "\n",
    "filename_list2 = listdir(raw_tweet_path2)"
   ]
  },
  {
   "cell_type": "markdown",
   "metadata": {},
   "source": [
    "Make an aggregate table."
   ]
  },
  {
   "cell_type": "code",
   "execution_count": 23,
   "metadata": {},
   "outputs": [],
   "source": [
    "import pandas as pd \n",
    "\n",
    "df_agg = pd.read_csv(raw_tweet_path2 + \"/\" + filename_list2[0])\n",
    "company_name = filename_list2[0][3:-4]\n",
    "df_agg[\"Company_name\"] = [company_name for i in range(df_agg.shape[0])]\n",
    "\n",
    "for i in range(1, len(filename_list2)):\n",
    "    df = pd.read_csv(raw_tweet_path2 + \"/\" + filename_list2[i])\n",
    "    company_name = filename_list2[i][3:-4]\n",
    "    df[\"Company_name\"] = [company_name for i in range(df.shape[0])]\n",
    "    df_agg = pd.concat([df_agg, df], ignore_index=True)"
   ]
  },
  {
   "cell_type": "code",
   "execution_count": 24,
   "metadata": {},
   "outputs": [
    {
     "data": {
      "text/plain": [
       "(927, 17)"
      ]
     },
     "execution_count": 24,
     "metadata": {},
     "output_type": "execute_result"
    }
   ],
   "source": [
    "df.shape"
   ]
  },
  {
   "cell_type": "code",
   "execution_count": 26,
   "metadata": {},
   "outputs": [
    {
     "data": {
      "text/plain": [
       "(206382, 17)"
      ]
     },
     "execution_count": 26,
     "metadata": {},
     "output_type": "execute_result"
    }
   ],
   "source": [
    "df_agg.shape"
   ]
  },
  {
   "cell_type": "markdown",
   "metadata": {},
   "source": [
    "Now, let's do the sentiment analysis. The final file is saved to `df_user_based_tweets1_features_added.parquet`."
   ]
  },
  {
   "cell_type": "code",
   "execution_count": 27,
   "metadata": {},
   "outputs": [],
   "source": [
    "import Text_to_Features_Script as script     # A different version, with the proper things commented out."
   ]
  },
  {
   "cell_type": "code",
   "execution_count": 30,
   "metadata": {},
   "outputs": [],
   "source": [
    "script.main(df_agg)"
   ]
  },
  {
   "cell_type": "markdown",
   "metadata": {},
   "source": [
    "Let's test."
   ]
  },
  {
   "cell_type": "code",
   "execution_count": 31,
   "metadata": {},
   "outputs": [],
   "source": [
    "df = pd.read_parquet(\"/Users/josht/Documents/GitHub/erdos_twitter_project/Data_Preprocessed/df_user_based_tweets1_features_added.parquet\")"
   ]
  },
  {
   "cell_type": "code",
   "execution_count": 33,
   "metadata": {},
   "outputs": [
    {
     "data": {
      "text/plain": [
       "Index(['created_at', 'entities_cashtags', 'entities_hashtags', 'entities_urls',\n",
       "       'public_metrics_like_count', 'public_metrics_quote_count',\n",
       "       'public_metrics_reply_count', 'public_metrics_retweet_count', 'text',\n",
       "       'entities_mentions', 'created_at_user',\n",
       "       'public_metrics_followers_count', 'public_metrics_following_count',\n",
       "       'public_metrics_listed_count', 'public_metrics_tweet_count',\n",
       "       'media_type', 'Company_name', 'Word_count_News_agencies',\n",
       "       'Word_count_Henry08_pos', 'Word_count_Henry08_neg',\n",
       "       'Word_count_LM11_pos', 'Word_count_LM11_neg',\n",
       "       'Word_count_Hagenau13_pos', 'Word_count_Hagenau13_neg',\n",
       "       'Tweet_Length_characters', 'Tweet_Length_words', 'Compound_vader',\n",
       "       'Positive_vader', 'Negative_vader', 'Neutral_vader'],\n",
       "      dtype='object')"
      ]
     },
     "execution_count": 33,
     "metadata": {},
     "output_type": "execute_result"
    }
   ],
   "source": [
    "df.columns"
   ]
  },
  {
   "cell_type": "code",
   "execution_count": 34,
   "metadata": {},
   "outputs": [
    {
     "data": {
      "text/html": [
       "<div>\n",
       "<style scoped>\n",
       "    .dataframe tbody tr th:only-of-type {\n",
       "        vertical-align: middle;\n",
       "    }\n",
       "\n",
       "    .dataframe tbody tr th {\n",
       "        vertical-align: top;\n",
       "    }\n",
       "\n",
       "    .dataframe thead th {\n",
       "        text-align: right;\n",
       "    }\n",
       "</style>\n",
       "<table border=\"1\" class=\"dataframe\">\n",
       "  <thead>\n",
       "    <tr style=\"text-align: right;\">\n",
       "      <th></th>\n",
       "      <th>Company_name</th>\n",
       "      <th>Word_count_News_agencies</th>\n",
       "      <th>Word_count_Henry08_pos</th>\n",
       "      <th>Word_count_Henry08_neg</th>\n",
       "      <th>Word_count_LM11_pos</th>\n",
       "      <th>Word_count_LM11_neg</th>\n",
       "      <th>Word_count_Hagenau13_pos</th>\n",
       "      <th>Word_count_Hagenau13_neg</th>\n",
       "      <th>Tweet_Length_characters</th>\n",
       "      <th>Tweet_Length_words</th>\n",
       "      <th>Compound_vader</th>\n",
       "      <th>Positive_vader</th>\n",
       "      <th>Negative_vader</th>\n",
       "      <th>Neutral_vader</th>\n",
       "    </tr>\n",
       "  </thead>\n",
       "  <tbody>\n",
       "    <tr>\n",
       "      <th>0</th>\n",
       "      <td>Ceridian</td>\n",
       "      <td>0</td>\n",
       "      <td>0</td>\n",
       "      <td>0</td>\n",
       "      <td>0</td>\n",
       "      <td>1</td>\n",
       "      <td>1</td>\n",
       "      <td>1</td>\n",
       "      <td>226</td>\n",
       "      <td>46</td>\n",
       "      <td>0.3400</td>\n",
       "      <td>0.072</td>\n",
       "      <td>0.000</td>\n",
       "      <td>0.928</td>\n",
       "    </tr>\n",
       "    <tr>\n",
       "      <th>1</th>\n",
       "      <td>Illumina</td>\n",
       "      <td>0</td>\n",
       "      <td>0</td>\n",
       "      <td>0</td>\n",
       "      <td>2</td>\n",
       "      <td>2</td>\n",
       "      <td>0</td>\n",
       "      <td>0</td>\n",
       "      <td>284</td>\n",
       "      <td>46</td>\n",
       "      <td>0.2023</td>\n",
       "      <td>0.118</td>\n",
       "      <td>0.078</td>\n",
       "      <td>0.804</td>\n",
       "    </tr>\n",
       "    <tr>\n",
       "      <th>2</th>\n",
       "      <td>Illumina</td>\n",
       "      <td>0</td>\n",
       "      <td>0</td>\n",
       "      <td>0</td>\n",
       "      <td>0</td>\n",
       "      <td>0</td>\n",
       "      <td>0</td>\n",
       "      <td>0</td>\n",
       "      <td>108</td>\n",
       "      <td>15</td>\n",
       "      <td>0.0000</td>\n",
       "      <td>0.000</td>\n",
       "      <td>0.000</td>\n",
       "      <td>1.000</td>\n",
       "    </tr>\n",
       "    <tr>\n",
       "      <th>3</th>\n",
       "      <td>Illumina</td>\n",
       "      <td>0</td>\n",
       "      <td>0</td>\n",
       "      <td>1</td>\n",
       "      <td>0</td>\n",
       "      <td>1</td>\n",
       "      <td>0</td>\n",
       "      <td>0</td>\n",
       "      <td>108</td>\n",
       "      <td>15</td>\n",
       "      <td>-0.4588</td>\n",
       "      <td>0.000</td>\n",
       "      <td>0.214</td>\n",
       "      <td>0.786</td>\n",
       "    </tr>\n",
       "    <tr>\n",
       "      <th>4</th>\n",
       "      <td>Illumina</td>\n",
       "      <td>0</td>\n",
       "      <td>0</td>\n",
       "      <td>0</td>\n",
       "      <td>0</td>\n",
       "      <td>2</td>\n",
       "      <td>0</td>\n",
       "      <td>0</td>\n",
       "      <td>112</td>\n",
       "      <td>14</td>\n",
       "      <td>0.0000</td>\n",
       "      <td>0.000</td>\n",
       "      <td>0.000</td>\n",
       "      <td>1.000</td>\n",
       "    </tr>\n",
       "    <tr>\n",
       "      <th>...</th>\n",
       "      <td>...</td>\n",
       "      <td>...</td>\n",
       "      <td>...</td>\n",
       "      <td>...</td>\n",
       "      <td>...</td>\n",
       "      <td>...</td>\n",
       "      <td>...</td>\n",
       "      <td>...</td>\n",
       "      <td>...</td>\n",
       "      <td>...</td>\n",
       "      <td>...</td>\n",
       "      <td>...</td>\n",
       "      <td>...</td>\n",
       "      <td>...</td>\n",
       "    </tr>\n",
       "    <tr>\n",
       "      <th>206377</th>\n",
       "      <td>Oracle</td>\n",
       "      <td>0</td>\n",
       "      <td>1</td>\n",
       "      <td>0</td>\n",
       "      <td>0</td>\n",
       "      <td>0</td>\n",
       "      <td>0</td>\n",
       "      <td>0</td>\n",
       "      <td>119</td>\n",
       "      <td>14</td>\n",
       "      <td>0.3182</td>\n",
       "      <td>0.150</td>\n",
       "      <td>0.000</td>\n",
       "      <td>0.850</td>\n",
       "    </tr>\n",
       "    <tr>\n",
       "      <th>206378</th>\n",
       "      <td>Oracle</td>\n",
       "      <td>0</td>\n",
       "      <td>1</td>\n",
       "      <td>0</td>\n",
       "      <td>0</td>\n",
       "      <td>0</td>\n",
       "      <td>0</td>\n",
       "      <td>0</td>\n",
       "      <td>119</td>\n",
       "      <td>14</td>\n",
       "      <td>0.3182</td>\n",
       "      <td>0.150</td>\n",
       "      <td>0.000</td>\n",
       "      <td>0.850</td>\n",
       "    </tr>\n",
       "    <tr>\n",
       "      <th>206379</th>\n",
       "      <td>Oracle</td>\n",
       "      <td>0</td>\n",
       "      <td>1</td>\n",
       "      <td>0</td>\n",
       "      <td>0</td>\n",
       "      <td>0</td>\n",
       "      <td>0</td>\n",
       "      <td>0</td>\n",
       "      <td>119</td>\n",
       "      <td>15</td>\n",
       "      <td>0.3182</td>\n",
       "      <td>0.150</td>\n",
       "      <td>0.000</td>\n",
       "      <td>0.850</td>\n",
       "    </tr>\n",
       "    <tr>\n",
       "      <th>206380</th>\n",
       "      <td>Oracle</td>\n",
       "      <td>0</td>\n",
       "      <td>0</td>\n",
       "      <td>0</td>\n",
       "      <td>0</td>\n",
       "      <td>0</td>\n",
       "      <td>0</td>\n",
       "      <td>0</td>\n",
       "      <td>139</td>\n",
       "      <td>22</td>\n",
       "      <td>0.7876</td>\n",
       "      <td>0.317</td>\n",
       "      <td>0.000</td>\n",
       "      <td>0.683</td>\n",
       "    </tr>\n",
       "    <tr>\n",
       "      <th>206381</th>\n",
       "      <td>Oracle</td>\n",
       "      <td>0</td>\n",
       "      <td>0</td>\n",
       "      <td>0</td>\n",
       "      <td>0</td>\n",
       "      <td>0</td>\n",
       "      <td>0</td>\n",
       "      <td>0</td>\n",
       "      <td>222</td>\n",
       "      <td>35</td>\n",
       "      <td>0.3400</td>\n",
       "      <td>0.072</td>\n",
       "      <td>0.000</td>\n",
       "      <td>0.928</td>\n",
       "    </tr>\n",
       "  </tbody>\n",
       "</table>\n",
       "<p>206382 rows × 14 columns</p>\n",
       "</div>"
      ],
      "text/plain": [
       "       Company_name  Word_count_News_agencies  Word_count_Henry08_pos  \\\n",
       "0          Ceridian                         0                       0   \n",
       "1          Illumina                         0                       0   \n",
       "2          Illumina                         0                       0   \n",
       "3          Illumina                         0                       0   \n",
       "4          Illumina                         0                       0   \n",
       "...             ...                       ...                     ...   \n",
       "206377       Oracle                         0                       1   \n",
       "206378       Oracle                         0                       1   \n",
       "206379       Oracle                         0                       1   \n",
       "206380       Oracle                         0                       0   \n",
       "206381       Oracle                         0                       0   \n",
       "\n",
       "        Word_count_Henry08_neg  Word_count_LM11_pos  Word_count_LM11_neg  \\\n",
       "0                            0                    0                    1   \n",
       "1                            0                    2                    2   \n",
       "2                            0                    0                    0   \n",
       "3                            1                    0                    1   \n",
       "4                            0                    0                    2   \n",
       "...                        ...                  ...                  ...   \n",
       "206377                       0                    0                    0   \n",
       "206378                       0                    0                    0   \n",
       "206379                       0                    0                    0   \n",
       "206380                       0                    0                    0   \n",
       "206381                       0                    0                    0   \n",
       "\n",
       "        Word_count_Hagenau13_pos  Word_count_Hagenau13_neg  \\\n",
       "0                              1                         1   \n",
       "1                              0                         0   \n",
       "2                              0                         0   \n",
       "3                              0                         0   \n",
       "4                              0                         0   \n",
       "...                          ...                       ...   \n",
       "206377                         0                         0   \n",
       "206378                         0                         0   \n",
       "206379                         0                         0   \n",
       "206380                         0                         0   \n",
       "206381                         0                         0   \n",
       "\n",
       "        Tweet_Length_characters  Tweet_Length_words  Compound_vader  \\\n",
       "0                           226                  46          0.3400   \n",
       "1                           284                  46          0.2023   \n",
       "2                           108                  15          0.0000   \n",
       "3                           108                  15         -0.4588   \n",
       "4                           112                  14          0.0000   \n",
       "...                         ...                 ...             ...   \n",
       "206377                      119                  14          0.3182   \n",
       "206378                      119                  14          0.3182   \n",
       "206379                      119                  15          0.3182   \n",
       "206380                      139                  22          0.7876   \n",
       "206381                      222                  35          0.3400   \n",
       "\n",
       "        Positive_vader  Negative_vader  Neutral_vader  \n",
       "0                0.072           0.000          0.928  \n",
       "1                0.118           0.078          0.804  \n",
       "2                0.000           0.000          1.000  \n",
       "3                0.000           0.214          0.786  \n",
       "4                0.000           0.000          1.000  \n",
       "...                ...             ...            ...  \n",
       "206377           0.150           0.000          0.850  \n",
       "206378           0.150           0.000          0.850  \n",
       "206379           0.150           0.000          0.850  \n",
       "206380           0.317           0.000          0.683  \n",
       "206381           0.072           0.000          0.928  \n",
       "\n",
       "[206382 rows x 14 columns]"
      ]
     },
     "execution_count": 34,
     "metadata": {},
     "output_type": "execute_result"
    }
   ],
   "source": [
    "df[['Company_name', 'Word_count_News_agencies',\n",
    "       'Word_count_Henry08_pos', 'Word_count_Henry08_neg',\n",
    "       'Word_count_LM11_pos', 'Word_count_LM11_neg',\n",
    "       'Word_count_Hagenau13_pos', 'Word_count_Hagenau13_neg',\n",
    "       'Tweet_Length_characters', 'Tweet_Length_words', 'Compound_vader',\n",
    "       'Positive_vader', 'Negative_vader', 'Neutral_vader']]"
   ]
  },
  {
   "cell_type": "markdown",
   "metadata": {},
   "source": [
    "Looks good!!!"
   ]
  },
  {
   "cell_type": "code",
   "execution_count": null,
   "metadata": {},
   "outputs": [],
   "source": []
  }
 ],
 "metadata": {
  "kernelspec": {
   "display_name": "Python 3",
   "language": "python",
   "name": "python3"
  },
  "language_info": {
   "codemirror_mode": {
    "name": "ipython",
    "version": 3
   },
   "file_extension": ".py",
   "mimetype": "text/x-python",
   "name": "python",
   "nbconvert_exporter": "python",
   "pygments_lexer": "ipython3",
   "version": "3.8.5"
  }
 },
 "nbformat": 4,
 "nbformat_minor": 4
}
