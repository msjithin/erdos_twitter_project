{
 "cells": [
  {
   "cell_type": "markdown",
   "metadata": {},
   "source": [
    "In this file, we preprocess the raw stock data for all companies. In particular, we extract the word counts and Vader scores, then we remove the entries without non-neutral sentiments, and we finally remove the text column from the tables. The preprocessed data will be saved in the csv files called `df_CompanyName_features_added.csv`."
   ]
  },
  {
   "cell_type": "code",
   "execution_count": 1,
   "metadata": {},
   "outputs": [],
   "source": [
    "raw_tweet_path = \"/Users/josht/Documents/Tweets_raw\""
   ]
  },
  {
   "cell_type": "markdown",
   "metadata": {},
   "source": [
    "Let us extract the list of all file names in the folder."
   ]
  },
  {
   "cell_type": "code",
   "execution_count": 2,
   "metadata": {},
   "outputs": [],
   "source": [
    "from os import listdir"
   ]
  },
  {
   "cell_type": "code",
   "execution_count": 3,
   "metadata": {},
   "outputs": [],
   "source": [
    "filename_list = listdir(raw_tweet_path)"
   ]
  },
  {
   "cell_type": "code",
   "execution_count": 4,
   "metadata": {},
   "outputs": [],
   "source": [
    "filename_list.sort()"
   ]
  },
  {
   "cell_type": "markdown",
   "metadata": {},
   "source": [
    "Now, we import the preprocessing script and run it on all the files whose names are in `filename_list`."
   ]
  },
  {
   "cell_type": "code",
   "execution_count": 5,
   "metadata": {},
   "outputs": [],
   "source": [
    "import Text_to_Features_Script as script"
   ]
  },
  {
   "cell_type": "code",
   "execution_count": 6,
   "metadata": {},
   "outputs": [],
   "source": [
    "# Try with a shorter list\n",
    "filename_list_run = filename_list[-10:]"
   ]
  },
  {
   "cell_type": "code",
   "execution_count": 7,
   "metadata": {},
   "outputs": [
    {
     "data": {
      "text/plain": [
       "['df_WynnResorts.csv',\n",
       " 'df_XcelEnergy.csv',\n",
       " 'df_Xilinx.csv',\n",
       " 'df_Xylem.csv',\n",
       " 'df_Yum!Brands.csv',\n",
       " 'df_ZebraTechnologies.csv',\n",
       " 'df_ZimmerBiomet.csv',\n",
       " 'df_ZionsBancorp.csv',\n",
       " 'df_Zoetis.csv',\n",
       " 'df_eBay.csv']"
      ]
     },
     "execution_count": 7,
     "metadata": {},
     "output_type": "execute_result"
    }
   ],
   "source": [
    "filename_list_run"
   ]
  },
  {
   "cell_type": "code",
   "execution_count": 8,
   "metadata": {},
   "outputs": [
    {
     "name": "stdout",
     "output_type": "stream",
     "text": [
      "WynnResortsfinished\n",
      "XcelEnergyfinished\n",
      "Xilinxfinished\n",
      "Xylemfinished\n",
      "Yum!Brandsfinished\n",
      "ZebraTechnologiesfinished\n",
      "ZimmerBiometfinished\n",
      "ZionsBancorpfinished\n",
      "Zoetisfinished\n",
      "eBayfinished\n"
     ]
    }
   ],
   "source": [
    "for file in filename_list_run:\n",
    "    script.main(file)"
   ]
  },
  {
   "cell_type": "code",
   "execution_count": 9,
   "metadata": {},
   "outputs": [
    {
     "name": "stdout",
     "output_type": "stream",
     "text": [
      "Wabtecfinished\n",
      "WalgreensBootsAlliancefinished\n",
      "Walmartfinished\n",
      "WasteManagementfinished\n",
      "WatersCorporationfinished\n",
      "WellsFargofinished\n",
      "Welltowerfinished\n",
      "WestPharmaceuticalServicesfinished\n",
      "WestRockfinished\n",
      "WesternDigitalfinished\n",
      "WesternUnionfinished\n",
      "Weyerhaeuserfinished\n",
      "WhirlpoolCorporationfinished\n",
      "WilliamsCompaniesfinished\n",
      "WillisTowersWatsonfinished\n"
     ]
    }
   ],
   "source": [
    "for file in filename_list[-25:-10]:\n",
    "    script.main(file)"
   ]
  },
  {
   "cell_type": "code",
   "execution_count": null,
   "metadata": {},
   "outputs": [],
   "source": []
  }
 ],
 "metadata": {
  "kernelspec": {
   "display_name": "Python 3",
   "language": "python",
   "name": "python3"
  },
  "language_info": {
   "codemirror_mode": {
    "name": "ipython",
    "version": 3
   },
   "file_extension": ".py",
   "mimetype": "text/x-python",
   "name": "python",
   "nbconvert_exporter": "python",
   "pygments_lexer": "ipython3",
   "version": "3.8.5"
  }
 },
 "nbformat": 4,
 "nbformat_minor": 4
}
