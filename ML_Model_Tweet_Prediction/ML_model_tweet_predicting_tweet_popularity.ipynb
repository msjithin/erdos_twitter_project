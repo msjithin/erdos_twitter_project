{
 "cells": [
  {
   "cell_type": "markdown",
   "metadata": {},
   "source": [
    "#### Import all the primary non-ML packages"
   ]
  },
  {
   "cell_type": "code",
   "execution_count": 1,
   "metadata": {},
   "outputs": [],
   "source": [
    "import csv\n",
    "import pandas as pd\n",
    "import numpy as np\n",
    "import matplotlib.pyplot as plt\n",
    "import time\n",
    "import pickle\n",
    "\n",
    "%matplotlib inline"
   ]
  },
  {
   "cell_type": "markdown",
   "metadata": {},
   "source": [
    "#### Set the local path"
   ]
  },
  {
   "cell_type": "code",
   "execution_count": 2,
   "metadata": {},
   "outputs": [],
   "source": [
    "import subprocess\n",
    "import os\n",
    "\n",
    "cmd = subprocess.Popen('pwd', stdout=subprocess.PIPE)\n",
    "cmd_out, cmd_err = cmd.communicate()\n",
    "local_path = os.fsdecode(cmd_out).strip()"
   ]
  },
  {
   "cell_type": "code",
   "execution_count": 3,
   "metadata": {},
   "outputs": [],
   "source": [
    "df=pd.read_csv(local_path+\"/tweets_processed.csv\")"
   ]
  },
  {
   "cell_type": "markdown",
   "metadata": {},
   "source": [
    "#### Load the data in 'Data_Preprocessed folder'"
   ]
  },
  {
   "cell_type": "code",
   "execution_count": 4,
   "metadata": {},
   "outputs": [],
   "source": [
    "# df=pd.read_parquet(local_path+\"/Data_Preprocessed/df_tweets_Shashank_features_added_part1.parquet\")\n",
    "# df=pd.concat([df,pd.read_parquet(local_path+\"/Data_Preprocessed/df_tweets_Shashank_features_added_part2.parquet\")])"
   ]
  },
  {
   "cell_type": "markdown",
   "metadata": {},
   "source": [
    "#### We drop columns with textual, categorical data, and we choose the tweets with like counts higher than the threshold to be popular -- assign binary classes based on that"
   ]
  },
  {
   "cell_type": "code",
   "execution_count": 5,
   "metadata": {},
   "outputs": [],
   "source": [
    "threshold = 30\n",
    "df['popularity'] = df['public_metrics_like_count'].apply(lambda x: 1 if x >= threshold else 0)\n",
    "feature_columns = ['entities_cashtags', 'entities_hashtags', 'entities_urls', 'entities_mentions',\n",
    "                   'public_metrics_followers_count', 'public_metrics_following_count',\n",
    "                   'public_metrics_tweet_count', 'Tweet_Length_characters', 'Tweet_Length_words',\n",
    "                   'Word_count_News_agencies', 'Compound_vader', 'Neutral_vader', 'Positive_vader',\n",
    "                   'Negative_vader']"
   ]
  },
  {
   "cell_type": "markdown",
   "metadata": {},
   "source": [
    "Columns present in the tweets dataframe"
   ]
  },
  {
   "cell_type": "code",
   "execution_count": 7,
   "metadata": {},
   "outputs": [
    {
     "data": {
      "text/plain": [
       "Index(['Unnamed: 0', 'created_at', 'entities_cashtags', 'entities_hashtags',\n",
       "       'entities_urls', 'public_metrics_like_count',\n",
       "       'public_metrics_quote_count', 'public_metrics_reply_count',\n",
       "       'public_metrics_retweet_count', 'text', 'entities_mentions',\n",
       "       'created_at_user', 'public_metrics_followers_count',\n",
       "       'public_metrics_following_count', 'public_metrics_listed_count',\n",
       "       'public_metrics_tweet_count', 'media_type', 'Company_name',\n",
       "       'Word_count_News_agencies', 'Word_count_Henry08_pos',\n",
       "       'Word_count_Henry08_neg', 'Word_count_LM11_pos', 'Word_count_LM11_neg',\n",
       "       'Word_count_Hagenau13_pos', 'Word_count_Hagenau13_neg',\n",
       "       'Tweet_Length_characters', 'Tweet_Length_words', 'Compound_vader',\n",
       "       'Positive_vader', 'Negative_vader', 'Neutral_vader'],\n",
       "      dtype='object')"
      ]
     },
     "execution_count": 7,
     "metadata": {},
     "output_type": "execute_result"
    }
   ],
   "source": [
    "df.columns"
   ]
  },
  {
   "cell_type": "markdown",
   "metadata": {},
   "source": [
    "#### Machine learning setup\n",
    "\n",
    "In the following cell, comment out the scoring dictionary while running multiclass classifiers."
   ]
  },
  {
   "cell_type": "code",
   "execution_count": null,
   "metadata": {},
   "outputs": [],
   "source": [
    "from sklearn.preprocessing import StandardScaler\n",
    "#from sklearn.ensemble import RandomForestClassifier\n",
    "from sklearn.ensemble import AdaBoostClassifier\n",
    "from sklearn.model_selection import GridSearchCV\n",
    "from sklearn.pipeline import Pipeline\n",
    "from sklearn.metrics import make_scorer\n",
    "from sklearn.metrics import roc_auc_score\n",
    "from sklearn.metrics import accuracy_score\n",
    "from sklearn.metrics import precision_score\n",
    "from sklearn.metrics import recall_score\n",
    "from sklearn.metrics import f1_score\n",
    "\n",
    "\n",
    "# The scorers can be either one of the predefined metric strings or a scorer\n",
    "# callable, like the one returned by make_scorer\n",
    "scoring = {\"precision_score\": make_scorer(precision_score),\\\n",
    "           \"recall_score\": make_scorer(recall_score),\\\n",
    "           \"accuracy_score\": make_scorer(accuracy_score),\\\n",
    "           \"f1_score\": make_scorer(f1_score, average=\"weighted\"),\n",
    "           \"roc_auc_score\": make_scorer(roc_auc_score)}\n"
   ]
  },
  {
   "cell_type": "markdown",
   "metadata": {},
   "source": [
    "Depending on your choice of binary or three classes, uncomment the $\\textit{socring}$, $\\textit{refit}$ options below under the model specification. Make sure change the names and ranges of the hyperparameters\n",
    "that you are tuning "
   ]
  },
  {
   "cell_type": "code",
   "execution_count": 9,
   "metadata": {},
   "outputs": [],
   "source": [
    "pipe = Pipeline(steps=[\n",
    "    ('scaler',StandardScaler()),\n",
    "    ('classifier',AdaBoostClassifier())\n",
    "])\n",
    "\n",
    "model = GridSearchCV(\n",
    "    pipe,\n",
    "    param_grid = {\n",
    "        #'classifier__max_depth':np.arange(10,70,10),\n",
    "        'classifier__n_estimators':np.arange(110,210,10)},\n",
    "    #scoring=scoring,\n",
    "    #refit=\"f1_score\",\n",
    "    return_train_score=True,\n",
    "    cv=30,\n",
    "    n_jobs=10\n",
    ")"
   ]
  },
  {
   "cell_type": "markdown",
   "metadata": {},
   "source": [
    "Set the features and labels for the model to be trained on"
   ]
  },
  {
   "cell_type": "code",
   "execution_count": 10,
   "metadata": {},
   "outputs": [
    {
     "name": "stdout",
     "output_type": "stream",
     "text": [
      "time taken : 9324.430378388002s\n"
     ]
    }
   ],
   "source": [
    "X = df[feature_columns]\n",
    "y = df.popularity"
   ]
  },
  {
   "cell_type": "markdown",
   "metadata": {},
   "source": [
    "For classification using three classes of tweet popularity, uncomment the following cell"
   ]
  },
  {
   "cell_type": "code",
   "execution_count": null,
   "metadata": {},
   "outputs": [],
   "source": [
    "# y=np.zeros(len(df))\n",
    "# y[df['public_metrics_like_count'] >= 100] = 2\n",
    "# y[(df['public_metrics_like_count'] < 100) & (df['public_metrics_like_count'] >= 20)] = 1"
   ]
  },
  {
   "cell_type": "markdown",
   "metadata": {},
   "source": [
    "#### Create train-test split and fit the model & fit the model"
   ]
  },
  {
   "cell_type": "code",
   "execution_count": null,
   "metadata": {},
   "outputs": [],
   "source": [
    "from sklearn.model_selection import train_test_split\n",
    "\n",
    "start = time.perf_counter()\n",
    "\n",
    "X_train, X_test, y_train, y_test = train_test_split(X, y,\n",
    "                                                      test_size = .2,\n",
    "                                                      random_state=123,\n",
    "                                                      shuffle=True,\n",
    "                                                      stratify=y)\n",
    "model.fit(X_train, y_train)\n",
    "\n",
    "finish = time.perf_counter()\n",
    "print(f'time taken : {finish-start}s')"
   ]
  },
  {
   "cell_type": "code",
   "execution_count": 23,
   "metadata": {},
   "outputs": [
    {
     "data": {
      "text/plain": [
       "0.7301091583068036"
      ]
     },
     "execution_count": 23,
     "metadata": {},
     "output_type": "execute_result"
    }
   ],
   "source": [
    "print(f'f1-score on the training set: {model.best_score_}')"
   ]
  },
  {
   "cell_type": "code",
   "execution_count": 24,
   "metadata": {},
   "outputs": [
    {
     "data": {
      "text/plain": [
       "{'classifier__n_estimators': 200}"
      ]
     },
     "execution_count": 24,
     "metadata": {},
     "output_type": "execute_result"
    }
   ],
   "source": [
    "print(f'The model parameters: {model.best_params_}')"
   ]
  },
  {
   "cell_type": "code",
   "execution_count": 25,
   "metadata": {},
   "outputs": [
    {
     "data": {
      "text/plain": [
       "0.7300073808807851"
      ]
     },
     "execution_count": 25,
     "metadata": {},
     "output_type": "execute_result"
    }
   ],
   "source": [
    "print(f'f1-score on the test set: {model.score(X_test,y_test)}')"
   ]
  },
  {
   "cell_type": "markdown",
   "metadata": {},
   "source": [
    "Store the summary of training and cross-vaalidation in $\\textit{results}$"
   ]
  },
  {
   "cell_type": "code",
   "execution_count": 26,
   "metadata": {},
   "outputs": [],
   "source": [
    "results=model.cv_results_"
   ]
  },
  {
   "cell_type": "code",
   "execution_count": 27,
   "metadata": {},
   "outputs": [],
   "source": [
    "from sklearn.metrics import multilabel_confusion_matrix, confusion_matrix, ConfusionMatrixDisplay\n",
    "\n",
    "y_predicted=model.predict(X_test)\n",
    "cm=confusion_matrix(y_test,y_predicted)\n",
    "mcm=multilabel_confusion_matrix(y_test,y_predicted)"
   ]
  },
  {
   "cell_type": "code",
   "execution_count": 28,
   "metadata": {},
   "outputs": [
    {
     "name": "stdout",
     "output_type": "stream",
     "text": [
      "[[[ 93782  10087]\n",
      "  [ 16304  62732]]\n",
      "\n",
      " [[ 73955  35062]\n",
      "  [ 12918  60970]]\n",
      "\n",
      " [[148690   4234]\n",
      "  [ 20161   9820]]]\n"
     ]
    }
   ],
   "source": [
    "print(mcm)"
   ]
  },
  {
   "cell_type": "code",
   "execution_count": 29,
   "metadata": {},
   "outputs": [
    {
     "name": "stdout",
     "output_type": "stream",
     "text": [
      "[[62732 15921   383]\n",
      " [ 9067 60970  3851]\n",
      " [ 1020 19141  9820]]\n"
     ]
    }
   ],
   "source": [
    "print(cm)"
   ]
  },
  {
   "cell_type": "code",
   "execution_count": 30,
   "metadata": {},
   "outputs": [
    {
     "name": "stdout",
     "output_type": "stream",
     "text": [
      "              precision    recall  f1-score   support\n",
      "\n",
      "           0       0.86      0.79      0.83     79036\n",
      "           1       0.63      0.83      0.72     73888\n",
      "           2       0.70      0.33      0.45     29981\n",
      "\n",
      "    accuracy                           0.73    182905\n",
      "   macro avg       0.73      0.65      0.66    182905\n",
      "weighted avg       0.74      0.73      0.72    182905\n",
      "\n"
     ]
    }
   ],
   "source": [
    "from sklearn.metrics import classification_report\n",
    "\n",
    "print(classification_report(y_test, y_predicted, target_names=['0','1','2']))"
   ]
  },
  {
   "cell_type": "code",
   "execution_count": 31,
   "metadata": {},
   "outputs": [
    {
     "data": {
      "text/plain": [
       "{'0': {'precision': 0.8614784602919567,\n",
       "  'recall': 0.7937142567943721,\n",
       "  'f1-score': 0.8262092127358335,\n",
       "  'support': 79036},\n",
       " '1': {'precision': 0.6348925358213928,\n",
       "  'recall': 0.8251678215677782,\n",
       "  'f1-score': 0.7176318267419961,\n",
       "  'support': 73888},\n",
       " '2': {'precision': 0.698733456667141,\n",
       "  'recall': 0.327540775824689,\n",
       "  'f1-score': 0.44600885659134776,\n",
       "  'support': 29981},\n",
       " 'accuracy': 0.7300073808807851,\n",
       " 'macro avg': {'precision': 0.7317014842601636,\n",
       "  'recall': 0.6488076180622797,\n",
       "  'f1-score': 0.6632832986897258,\n",
       "  'support': 182905},\n",
       " 'weighted avg': {'precision': 0.7432682487561505,\n",
       "  'recall': 0.7300073808807851,\n",
       "  'f1-score': 0.7200264797658192,\n",
       "  'support': 182905}}"
      ]
     },
     "execution_count": 31,
     "metadata": {},
     "output_type": "execute_result"
    }
   ],
   "source": [
    "classification_report(y_test, y_predicted, target_names=['0','1','2'],output_dict=True)"
   ]
  },
  {
   "cell_type": "code",
   "execution_count": 32,
   "metadata": {},
   "outputs": [
    {
     "data": {
      "image/png": "[encoded data removed]",
      "text/plain": [
       "<Figure size 432x288 with 2 Axes>"
      ]
     },
     "metadata": {
      "needs_background": "light"
     },
     "output_type": "display_data"
    }
   ],
   "source": [
    "disp = ConfusionMatrixDisplay(confusion_matrix=cm,display_labels=model.classes_)\n",
    "disp.plot();"
   ]
  },
  {
   "cell_type": "markdown",
   "metadata": {},
   "source": [
    "To save the summary of training and cross-valdiation into a text file, uncomment the following snippet of code "
   ]
  },
  {
   "cell_type": "code",
   "execution_count": 33,
   "metadata": {},
   "outputs": [],
   "source": [
    "# with open(local_path+\"/model_20_100_ab_n_estimators_tuning1.csv\",\"a\") as csvfile:\n",
    "#     writer=csv.writer(csvfile)\n",
    "#     for item,value in results.items():\n",
    "#         writer.writerow([item,value])"
   ]
  },
  {
   "cell_type": "markdown",
   "metadata": {},
   "source": [
    "To plot the results of tuning hyperparameters through $\\textit{GridSearchCV}$ uncomment the following cell. Note this only works when the $\\textit{scoring}$ option is enabled while training"
   ]
  },
  {
   "cell_type": "code",
   "execution_count": 22,
   "metadata": {},
   "outputs": [],
   "source": [
    "# import seaborn as sns\n",
    "# sns.set()\n",
    "\n",
    "# plt.figure(figsize=(16, 16))\n",
    "# plt.title(\"GridSearchCV to tune n_estimators hyperparameter for the like_counts threshold set to 30\", fontsize=16)\n",
    "\n",
    "# plt.xlabel(\"number of esimators\",fontsize=16)\n",
    "# plt.ylabel(\"Score\",fontsize=16)\n",
    "\n",
    "# plt.xticks(fontsize=16)\n",
    "# plt.yticks(fontsize=16)\n",
    "\n",
    "# ax = plt.gca()\n",
    "# # ax.set_xlim(0, 11)\n",
    "# # ax.set_ylim(0.7, 1)\n",
    "\n",
    "# # Get the regular numpy array from the MaskedArray\n",
    "# X_axis = np.array(results[\"param_classifier__n_estimators\"].data, dtype=float)\n",
    "\n",
    "# for scorer, color in zip(sorted(scoring), [\"g\", \"k\", \"b\", \"r\",\"m\"]):\n",
    "#     for sample, style in ((\"train\", \"-x\"), (\"test\", \"--o\")):\n",
    "#         sample_score_mean = results[\"mean_%s_%s\" % (sample, scorer)]\n",
    "#         sample_score_std = results[\"std_%s_%s\" % (sample, scorer)]\n",
    "#         ax.fill_between(\n",
    "#             X_axis,\n",
    "#             sample_score_mean - sample_score_std,\n",
    "#             sample_score_mean + sample_score_std,\n",
    "#             alpha=0.1 if sample == \"test\" else 0,\n",
    "#             color=color,\n",
    "#         )\n",
    "#         ax.plot(\n",
    "#             X_axis,\n",
    "#             sample_score_mean,\n",
    "#             style,\n",
    "#             color=color,\n",
    "#             alpha=1 if sample == \"test\" else 0.7,\n",
    "#             label=\"%s (%s)\" % (scorer, sample),\n",
    "#         )\n",
    "\n",
    "#     best_index = np.nonzero(results[\"rank_test_%s\" % scorer] == 1)[0][0]\n",
    "#     best_score = results[\"mean_test_%s\" % scorer][best_index]\n",
    "\n",
    "#     # Plot a dotted vertical line at the best score for that scorer marked by x\n",
    "#     ax.plot(\n",
    "#         [\n",
    "#             X_axis[best_index],\n",
    "#         ]\n",
    "#         * 2,\n",
    "#         [0.8, best_score],\n",
    "#         linestyle=\"-.\",\n",
    "#         color=color,\n",
    "#         marker=\"x\",\n",
    "#         markeredgewidth=3,\n",
    "#         ms=8,\n",
    "#     )\n",
    "\n",
    "#     # Annotate the best score for that scorer\n",
    "#     #ax.annotate(\"%0.2f\" % best_score, (X_axis[best_index], best_score + 0.005))\n",
    "\n",
    "# ax.annotate(\"%0.2f\" % best_score, (X_axis[best_index], best_score + 0.01),fontsize=16)\n",
    "# plt.legend(loc=\"best\")\n",
    "# plt.grid(True)\n",
    "# plt.show()\n",
    "# #plt.savefig('model_tuning_metrics_max_depth_50_min_samples_leaf_30.png');"
   ]
  },
  {
   "cell_type": "code",
   "execution_count": null,
   "metadata": {},
   "outputs": [],
   "source": []
  }
 ],
 "metadata": {
  "kernelspec": {
   "display_name": "demo",
   "language": "python",
   "name": "demo"
  },
  "language_info": {
   "codemirror_mode": {
    "name": "ipython",
    "version": 3
   },
   "file_extension": ".py",
   "mimetype": "text/x-python",
   "name": "python",
   "nbconvert_exporter": "python",
   "pygments_lexer": "ipython3",
   "version": "3.9.2"
  }
 },
 "nbformat": 4,
 "nbformat_minor": 5
}
