{
 "cells": [
  {
   "cell_type": "code",
   "execution_count": null,
   "id": "pressed-subcommittee",
   "metadata": {},
   "outputs": [],
   "source": [
    "import csv\n",
    "import pandas as pd\n",
    "import numpy as np\n",
    "import matplotlib.pyplot as plt\n",
    "\n",
    "%matplotlib inline"
   ]
  },
  {
   "cell_type": "code",
   "execution_count": null,
   "id": "incredible-feeling",
   "metadata": {},
   "outputs": [],
   "source": [
    "import subprocess\n",
    "import os\n",
    "\n",
    "cmd = subprocess.Popen('pwd', stdout=subprocess.PIPE)\n",
    "cmd_out, cmd_err = cmd.communicate()\n",
    "local_path = os.fsdecode(cmd_out).strip()"
   ]
  },
  {
   "cell_type": "code",
   "execution_count": null,
   "id": "strange-advocacy",
   "metadata": {},
   "outputs": [],
   "source": [
    "#load stock price data\n",
    "df_googl=pd.read_csv(local_path+\"/erdos_twitter_project/data/stocks/GOOGL.csv\")\n",
    "df_googl['date_time']=pd.to_datetime(df_googl.time)\n",
    "\n",
    "#load tweet data\n",
    "tweets=pd.read_parquet(local_path+\\\n",
    "                   \"/erdos_twitter_project/Data_Preprocessed/df_tweets_Shashank_features_added_part1.parquet\")\n",
    "tweets=pd.concat([tweets,\\\n",
    "                  pd.read_parquet(local_path+\"/erdos_twitter_project/Data_Preprocessed/df_tweets_Shashank_features_added_part2.parquet\")])\n",
    "\n",
    "tweets=tweets[['created_at','text']]\n",
    "\n",
    "#extract tweets that mention GOOGL\n",
    "google_tweets=pd.DataFrame([item for item in tweets.values if \"$GOOGL\" in item[1].split()],columns=['created_at','text'])\n",
    "\n",
    "#modify 10 to pick tweet of any index from the google_tweets dataframe\n",
    "tweet_iloc=0\n",
    "\n",
    "#modify the time in seconds to extract stock prices with time stamps in the interval [after,before]\n",
    "before=50*3600\n",
    "after=3600\n",
    "\n",
    "def get_subsequent_stock_prices(df,tweet_iloc,date_and_time,before,after):\n",
    "    df['delta']=[(item - pd.to_datetime(date_and_time)).total_seconds() for item in df.date_time.values]\n",
    "    df=df.drop(['time','date_time'],axis=1)\n",
    "    #df=df[(df['delta'] <= before) & (df['delta'] >= after)].sort_values(by=['delta'])\n",
    "    df=df[df['delta'] >= after].merge(df[df['delta'] <= before]).sort_values(by=['delta'])\n",
    "    time_of_creation=[(tweet_iloc,date_and_time)]\n",
    "    index=pd.MultiIndex.from_product([time_of_creation,list(range(len(df.values)))],names=['iloc_and_toc','index'])\n",
    "    return pd.DataFrame(df.values,index=index,columns=df.columns,dtype=float)\n",
    "\n",
    "# if __name__==\"__main__\":\n",
    "#     get_subsequent_stock_prices(df_googl,tweet_iloc,google_tweets.iloc[tweet_iloc]['created_at'],before,after)"
   ]
  },
  {
   "cell_type": "code",
   "execution_count": null,
   "id": "round-effectiveness",
   "metadata": {},
   "outputs": [],
   "source": [
    "get_subsequent_stock_prices(df_googl,tweet_iloc,google_tweets.iloc[tweet_iloc]['created_at'],before,\\\n",
    "                            after).to_csv(local_path+'/erdos_twitter_project/data/stocks/googl_stock_tweet.csv')"
   ]
  }
 ],
 "metadata": {
  "kernelspec": {
   "display_name": "Python 3",
   "language": "python",
   "name": "python3"
  },
  "language_info": {
   "codemirror_mode": {
    "name": "ipython",
    "version": 3
   },
   "file_extension": ".py",
   "mimetype": "text/x-python",
   "name": "python",
   "nbconvert_exporter": "python",
   "pygments_lexer": "ipython3",
   "version": "3.7.6"
  }
 },
 "nbformat": 4,
 "nbformat_minor": 5
}
