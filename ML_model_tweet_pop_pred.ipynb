{
 "cells": [
  {
   "cell_type": "markdown",
   "id": "elect-effort",
   "metadata": {},
   "source": [
    "#### Import all the primary non-ML packages"
   ]
  },
  {
   "cell_type": "code",
   "execution_count": 1,
   "id": "coated-going",
   "metadata": {},
   "outputs": [],
   "source": [
    "import csv\n",
    "import pandas as pd\n",
    "import numpy as np\n",
    "import matplotlib.pyplot as plt\n",
    "import time\n",
    "\n",
    "%matplotlib inline"
   ]
  },
  {
   "cell_type": "markdown",
   "id": "experienced-skill",
   "metadata": {},
   "source": [
    "#### Set the local path"
   ]
  },
  {
   "cell_type": "code",
   "execution_count": 2,
   "id": "delayed-customer",
   "metadata": {},
   "outputs": [],
   "source": [
    "import subprocess\n",
    "import os\n",
    "\n",
    "cmd = subprocess.Popen('pwd', stdout=subprocess.PIPE)\n",
    "cmd_out, cmd_err = cmd.communicate()\n",
    "local_path = os.fsdecode(cmd_out).strip()"
   ]
  },
  {
   "cell_type": "markdown",
   "id": "bound-imaging",
   "metadata": {},
   "source": [
    "#### Load the data in 'Data_Preprocessed folder'"
   ]
  },
  {
   "cell_type": "code",
   "execution_count": 3,
   "id": "acceptable-blast",
   "metadata": {},
   "outputs": [],
   "source": [
    "df=pd.read_parquet(local_path+\"/erdos_twitter_project/Data_Preprocessed/df_tweets_Shashank_features_added_part1.parquet\")\n",
    "df=pd.concat([df,pd.read_parquet(local_path+\"/erdos_twitter_project/Data_Preprocessed/df_tweets_Shashank_features_added_part2.parquet\")])"
   ]
  },
  {
   "cell_type": "markdown",
   "id": "liked-green",
   "metadata": {},
   "source": [
    "#### Drop textual, categorical data"
   ]
  },
  {
   "cell_type": "code",
   "execution_count": 4,
   "id": "gentle-drama",
   "metadata": {},
   "outputs": [
    {
     "data": {
      "text/html": [
       "<div>\n",
       "<style scoped>\n",
       "    .dataframe tbody tr th:only-of-type {\n",
       "        vertical-align: middle;\n",
       "    }\n",
       "\n",
       "    .dataframe tbody tr th {\n",
       "        vertical-align: top;\n",
       "    }\n",
       "\n",
       "    .dataframe thead th {\n",
       "        text-align: right;\n",
       "    }\n",
       "</style>\n",
       "<table border=\"1\" class=\"dataframe\">\n",
       "  <thead>\n",
       "    <tr style=\"text-align: right;\">\n",
       "      <th></th>\n",
       "      <th>entities_cashtags</th>\n",
       "      <th>entities_hashtags</th>\n",
       "      <th>entities_urls</th>\n",
       "      <th>public_metrics_like_count</th>\n",
       "      <th>public_metrics_quote_count</th>\n",
       "      <th>public_metrics_reply_count</th>\n",
       "      <th>public_metrics_retweet_count</th>\n",
       "      <th>entities_mentions</th>\n",
       "      <th>public_metrics_followers_count</th>\n",
       "      <th>public_metrics_following_count</th>\n",
       "      <th>...</th>\n",
       "      <th>Word_count_LM11_pos</th>\n",
       "      <th>Word_count_LM11_neg</th>\n",
       "      <th>Word_count_Hagenau13_pos</th>\n",
       "      <th>Word_count_Hagenau13_neg</th>\n",
       "      <th>Tweet_Length_characters</th>\n",
       "      <th>Tweet_Length_words</th>\n",
       "      <th>Compound_vader</th>\n",
       "      <th>Positive_vader</th>\n",
       "      <th>Negative_vader</th>\n",
       "      <th>Neutral_vader</th>\n",
       "    </tr>\n",
       "  </thead>\n",
       "  <tbody>\n",
       "    <tr>\n",
       "      <th>0</th>\n",
       "      <td>1</td>\n",
       "      <td>3</td>\n",
       "      <td>1</td>\n",
       "      <td>0</td>\n",
       "      <td>0</td>\n",
       "      <td>0</td>\n",
       "      <td>0</td>\n",
       "      <td>0</td>\n",
       "      <td>187956</td>\n",
       "      <td>75</td>\n",
       "      <td>...</td>\n",
       "      <td>0</td>\n",
       "      <td>0</td>\n",
       "      <td>0</td>\n",
       "      <td>0</td>\n",
       "      <td>119</td>\n",
       "      <td>21</td>\n",
       "      <td>0.0000</td>\n",
       "      <td>0.0</td>\n",
       "      <td>0.000</td>\n",
       "      <td>1.000</td>\n",
       "    </tr>\n",
       "    <tr>\n",
       "      <th>1</th>\n",
       "      <td>1</td>\n",
       "      <td>3</td>\n",
       "      <td>1</td>\n",
       "      <td>0</td>\n",
       "      <td>0</td>\n",
       "      <td>0</td>\n",
       "      <td>0</td>\n",
       "      <td>0</td>\n",
       "      <td>187956</td>\n",
       "      <td>75</td>\n",
       "      <td>...</td>\n",
       "      <td>0</td>\n",
       "      <td>0</td>\n",
       "      <td>0</td>\n",
       "      <td>0</td>\n",
       "      <td>159</td>\n",
       "      <td>31</td>\n",
       "      <td>0.0000</td>\n",
       "      <td>0.0</td>\n",
       "      <td>0.000</td>\n",
       "      <td>1.000</td>\n",
       "    </tr>\n",
       "    <tr>\n",
       "      <th>2</th>\n",
       "      <td>0</td>\n",
       "      <td>0</td>\n",
       "      <td>1</td>\n",
       "      <td>6</td>\n",
       "      <td>1</td>\n",
       "      <td>0</td>\n",
       "      <td>1</td>\n",
       "      <td>0</td>\n",
       "      <td>2276616</td>\n",
       "      <td>515</td>\n",
       "      <td>...</td>\n",
       "      <td>0</td>\n",
       "      <td>0</td>\n",
       "      <td>0</td>\n",
       "      <td>0</td>\n",
       "      <td>94</td>\n",
       "      <td>12</td>\n",
       "      <td>0.0000</td>\n",
       "      <td>0.0</td>\n",
       "      <td>0.000</td>\n",
       "      <td>1.000</td>\n",
       "    </tr>\n",
       "    <tr>\n",
       "      <th>3</th>\n",
       "      <td>1</td>\n",
       "      <td>3</td>\n",
       "      <td>1</td>\n",
       "      <td>0</td>\n",
       "      <td>0</td>\n",
       "      <td>0</td>\n",
       "      <td>0</td>\n",
       "      <td>0</td>\n",
       "      <td>187956</td>\n",
       "      <td>75</td>\n",
       "      <td>...</td>\n",
       "      <td>0</td>\n",
       "      <td>0</td>\n",
       "      <td>0</td>\n",
       "      <td>0</td>\n",
       "      <td>156</td>\n",
       "      <td>31</td>\n",
       "      <td>0.0000</td>\n",
       "      <td>0.0</td>\n",
       "      <td>0.000</td>\n",
       "      <td>1.000</td>\n",
       "    </tr>\n",
       "    <tr>\n",
       "      <th>4</th>\n",
       "      <td>1</td>\n",
       "      <td>3</td>\n",
       "      <td>1</td>\n",
       "      <td>0</td>\n",
       "      <td>0</td>\n",
       "      <td>0</td>\n",
       "      <td>0</td>\n",
       "      <td>0</td>\n",
       "      <td>187956</td>\n",
       "      <td>75</td>\n",
       "      <td>...</td>\n",
       "      <td>0</td>\n",
       "      <td>0</td>\n",
       "      <td>0</td>\n",
       "      <td>1</td>\n",
       "      <td>98</td>\n",
       "      <td>19</td>\n",
       "      <td>-0.2732</td>\n",
       "      <td>0.0</td>\n",
       "      <td>0.149</td>\n",
       "      <td>0.851</td>\n",
       "    </tr>\n",
       "  </tbody>\n",
       "</table>\n",
       "<p>5 rows × 25 columns</p>\n",
       "</div>"
      ],
      "text/plain": [
       "   entities_cashtags  entities_hashtags  entities_urls  \\\n",
       "0                  1                  3              1   \n",
       "1                  1                  3              1   \n",
       "2                  0                  0              1   \n",
       "3                  1                  3              1   \n",
       "4                  1                  3              1   \n",
       "\n",
       "   public_metrics_like_count  public_metrics_quote_count  \\\n",
       "0                          0                           0   \n",
       "1                          0                           0   \n",
       "2                          6                           1   \n",
       "3                          0                           0   \n",
       "4                          0                           0   \n",
       "\n",
       "   public_metrics_reply_count  public_metrics_retweet_count  \\\n",
       "0                           0                             0   \n",
       "1                           0                             0   \n",
       "2                           0                             1   \n",
       "3                           0                             0   \n",
       "4                           0                             0   \n",
       "\n",
       "   entities_mentions  public_metrics_followers_count  \\\n",
       "0                  0                          187956   \n",
       "1                  0                          187956   \n",
       "2                  0                         2276616   \n",
       "3                  0                          187956   \n",
       "4                  0                          187956   \n",
       "\n",
       "   public_metrics_following_count  ...  Word_count_LM11_pos  \\\n",
       "0                              75  ...                    0   \n",
       "1                              75  ...                    0   \n",
       "2                             515  ...                    0   \n",
       "3                              75  ...                    0   \n",
       "4                              75  ...                    0   \n",
       "\n",
       "   Word_count_LM11_neg  Word_count_Hagenau13_pos  Word_count_Hagenau13_neg  \\\n",
       "0                    0                         0                         0   \n",
       "1                    0                         0                         0   \n",
       "2                    0                         0                         0   \n",
       "3                    0                         0                         0   \n",
       "4                    0                         0                         1   \n",
       "\n",
       "   Tweet_Length_characters  Tweet_Length_words  Compound_vader  \\\n",
       "0                      119                  21          0.0000   \n",
       "1                      159                  31          0.0000   \n",
       "2                       94                  12          0.0000   \n",
       "3                      156                  31          0.0000   \n",
       "4                       98                  19         -0.2732   \n",
       "\n",
       "   Positive_vader  Negative_vader  Neutral_vader  \n",
       "0             0.0           0.000          1.000  \n",
       "1             0.0           0.000          1.000  \n",
       "2             0.0           0.000          1.000  \n",
       "3             0.0           0.000          1.000  \n",
       "4             0.0           0.149          0.851  \n",
       "\n",
       "[5 rows x 25 columns]"
      ]
     },
     "execution_count": 4,
     "metadata": {},
     "output_type": "execute_result"
    }
   ],
   "source": [
    "dropthese=['created_at','created_at_user','text','Company_name','media_type']\n",
    "df=df.drop(dropthese,axis=1)\n",
    "df.head(5)"
   ]
  },
  {
   "cell_type": "markdown",
   "id": "liquid-fairy",
   "metadata": {},
   "source": [
    "#### We choose the tweets with like counts higher than 20 to be popular -- assign binary classes based on that"
   ]
  },
  {
   "cell_type": "code",
   "execution_count": 5,
   "id": "exciting-invalid",
   "metadata": {},
   "outputs": [],
   "source": [
    "y=[]\n",
    "for k in df.public_metrics_like_count:\n",
    "    if k>20:\n",
    "        y.append(1)\n",
    "    else:\n",
    "        y.append(0)\n",
    "        \n",
    "X = df.drop(['public_metrics_like_count'],axis=1)"
   ]
  },
  {
   "cell_type": "code",
   "execution_count": 6,
   "id": "frozen-prague",
   "metadata": {},
   "outputs": [
    {
     "name": "stdout",
     "output_type": "stream",
     "text": [
      "fraction of tweets more than 20 likes and those less than 20 likes: 0.5560581855240382 , 0.4439418144759618\n"
     ]
    }
   ],
   "source": [
    "print(f'fraction of tweets more than 20 likes and those less than 20 likes: {sum(y)/len(y)} , {1-(sum(y)/len(y))}')"
   ]
  },
  {
   "cell_type": "markdown",
   "id": "expired-summit",
   "metadata": {},
   "source": [
    "#### Machine learning setup"
   ]
  },
  {
   "cell_type": "code",
   "execution_count": 7,
   "id": "hybrid-commitment",
   "metadata": {},
   "outputs": [],
   "source": [
    "from sklearn.preprocessing import StandardScaler\n",
    "from sklearn.decomposition import PCA\n",
    "from sklearn.neighbors import KNeighborsClassifier\n",
    "from sklearn.model_selection import GridSearchCV\n",
    "from sklearn.pipeline import Pipeline\n",
    "from sklearn.metrics import make_scorer\n",
    "from sklearn.metrics import accuracy_score\n",
    "from sklearn.metrics import f1_score\n",
    "\n",
    "scaler = StandardScaler()\n",
    "pca=PCA(n_components=20)\n",
    "knn_classifier =  KNeighborsClassifier()\n",
    "\n",
    "pipe = Pipeline(steps=[\n",
    "    ('scaler',scaler),\n",
    "    ('dimensionality_reduction',pca),\n",
    "    ('classifier',knn_classifier)\n",
    "])\n",
    "\n",
    "# The scorers can be either one of the predefined metric strings or a scorer\n",
    "# callable, like the one returned by make_scorer\n",
    "scoring = {\"accuracy_score\": make_scorer(accuracy_score),\"f1_scorer\": make_scorer(f1_score, average=\"weighted\")}\n",
    "\n",
    "\n",
    "model = GridSearchCV(\n",
    "    pipe,\n",
    "    param_grid = {\n",
    "    'classifier__n_neighbors':range(5,11)},\n",
    "    scoring=scoring,\n",
    "    refit=\"f1_scorer\",\n",
    "    return_train_score=True,\n",
    "    cv=10,\n",
    "    n_jobs=2\n",
    ")"
   ]
  },
  {
   "cell_type": "markdown",
   "id": "sorted-syndicate",
   "metadata": {},
   "source": [
    "#### Create train-test split and fit the model"
   ]
  },
  {
   "cell_type": "code",
   "execution_count": null,
   "id": "reliable-breakdown",
   "metadata": {},
   "outputs": [],
   "source": [
    "from sklearn.model_selection import train_test_split\n",
    "import sklearn.metrics\n",
    "\n",
    "\n",
    "start = time.perf_counter()\n",
    "\n",
    "X_train, X_test, y_train, y_test = train_test_split(X, y,\n",
    "                                                      test_size = .2,\n",
    "                                                      random_state=123,\n",
    "                                                      shuffle=True,\n",
    "                                                      stratify=y)\n",
    "model.fit(X_train, y_train)\n",
    "\n",
    "finish = time.perf_counter()\n",
    "print(f'time taken : {finish-start}s')"
   ]
  },
  {
   "cell_type": "code",
   "execution_count": null,
   "id": "hawaiian-earth",
   "metadata": {},
   "outputs": [],
   "source": [
    "model.best_score_"
   ]
  },
  {
   "cell_type": "code",
   "execution_count": null,
   "id": "induced-millennium",
   "metadata": {},
   "outputs": [],
   "source": [
    "model.best_params_"
   ]
  },
  {
   "cell_type": "code",
   "execution_count": null,
   "id": "proprietary-annotation",
   "metadata": {},
   "outputs": [],
   "source": [
    "results=model.cv_results_"
   ]
  },
  {
   "cell_type": "code",
   "execution_count": null,
   "id": "prescribed-transcription",
   "metadata": {},
   "outputs": [],
   "source": []
  }
 ],
 "metadata": {
  "kernelspec": {
   "display_name": "Python 3",
   "language": "python",
   "name": "python3"
  },
  "language_info": {
   "codemirror_mode": {
    "name": "ipython",
    "version": 3
   },
   "file_extension": ".py",
   "mimetype": "text/x-python",
   "name": "python",
   "nbconvert_exporter": "python",
   "pygments_lexer": "ipython3",
   "version": "3.7.6"
  }
 },
 "nbformat": 4,
 "nbformat_minor": 5
}
